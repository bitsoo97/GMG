{
 "cells": [
  {
   "cell_type": "code",
   "execution_count": 2,
   "id": "32a0ff4c",
   "metadata": {},
   "outputs": [],
   "source": [
    "import pandas as pd"
   ]
  },
  {
   "cell_type": "code",
   "execution_count": 3,
   "id": "b8eefd94",
   "metadata": {},
   "outputs": [],
   "source": [
    "df = pd.read_csv(r\"C:\\Users\\user\\Downloads\\bq-results-20250805-072127-1754378950748.csv\")"
   ]
  },
  {
   "cell_type": "code",
   "execution_count": 4,
   "id": "97329db8",
   "metadata": {},
   "outputs": [],
   "source": [
    "# visitStartTime 날짜 형식으로 변경\n",
    "df['visitStartTime'] = pd.to_datetime(df['visitStartTime'], unit='s')"
   ]
  },
  {
   "cell_type": "code",
   "execution_count": 5,
   "id": "887ed026",
   "metadata": {},
   "outputs": [
    {
     "data": {
      "text/plain": [
       "0        2016-11-21 14:14:38\n",
       "1        2017-01-18 08:18:50\n",
       "2        2017-04-06 19:46:50\n",
       "3        2017-04-16 00:36:30\n",
       "4        2017-01-26 11:47:04\n",
       "                 ...        \n",
       "901092   2017-07-26 08:20:33\n",
       "901093   2017-03-20 20:24:02\n",
       "901094   2016-08-22 18:22:52\n",
       "901095   2017-03-31 19:12:04\n",
       "901096   2016-09-20 07:38:32\n",
       "Name: visitStartTime, Length: 901097, dtype: datetime64[ns]"
      ]
     },
     "execution_count": 5,
     "metadata": {},
     "output_type": "execute_result"
    }
   ],
   "source": [
    "df['visitStartTime']"
   ]
  },
  {
   "cell_type": "code",
   "execution_count": 11,
   "id": "9d587b83",
   "metadata": {},
   "outputs": [],
   "source": [
    "#pageviews null → 중앙값으로 대체\n",
    "median_value = df['pageviews'].median()\n",
    "df['pageviews'].fillna(median_value)\n",
    "df['pageviews'] = df['pageviews'].fillna(median_value)\n",
    "df['pageviews'] = df['pageviews'].astype(int)"
   ]
  },
  {
   "cell_type": "code",
   "execution_count": 12,
   "id": "cf68b4c8",
   "metadata": {},
   "outputs": [
    {
     "data": {
      "text/plain": [
       "np.int64(0)"
      ]
     },
     "execution_count": 12,
     "metadata": {},
     "output_type": "execute_result"
    }
   ],
   "source": [
    "df['pageviews'].isnull().sum()"
   ]
  },
  {
   "cell_type": "code",
   "execution_count": 15,
   "id": "e8a07299",
   "metadata": {},
   "outputs": [],
   "source": [
    "# 결측치가 아닌 값만 추출\n",
    "time_On = df['timeOnSite'].dropna()\n",
    "\n",
    "# IQR 계산\n",
    "Q1 = time_On.quantile(0.25)\n",
    "Q3 = time_On.quantile(0.75)\n",
    "IQR = Q3 - Q1\n",
    "\n",
    "# 이상치 기준 설정 (IQR 방식)\n",
    "lower_bound = Q1 - 1.5 * IQR\n",
    "upper_bound = Q3 + 1.5 * IQR\n",
    "\n",
    "# 이상치 제거\n",
    "filtered = time_On[(time_On >= lower_bound) & (time_On <= upper_bound)]\n",
    "\n",
    "# 중앙값 계산 (이상치 제거된 값으로)\n",
    "median_filtered = filtered.median()\n",
    "\n",
    "# 결측치(NaN)를 중앙값으로 대체\n",
    "df['timeOnSite'].fillna(median_filtered)\n",
    "df['timeOnSite'] = df['timeOnSite'].fillna(median_filtered)\n",
    "\n",
    "# 초 단위로 계산하여 보기 쉬운 형식으로 변경\n",
    "df['timeOnSite'] = pd.to_timedelta(df['timeOnSite'], unit='s').astype(str).str.extract(r'(\\d{1,2}:\\d{2}:\\d{2})')[0]"
   ]
  },
  {
   "cell_type": "code",
   "execution_count": 16,
   "id": "19a4af54",
   "metadata": {},
   "outputs": [
    {
     "data": {
      "text/plain": [
       "451325    05:16:57\n",
       "519513    04:10:47\n",
       "25835     04:10:20\n",
       "712869    03:57:59\n",
       "669765    03:27:46\n",
       "            ...   \n",
       "261854    01:50:03\n",
       "665879    01:49:56\n",
       "710309    01:49:23\n",
       "756422    01:49:15\n",
       "284175    01:48:40\n",
       "Name: timeOnSite, Length: 100, dtype: object"
      ]
     },
     "execution_count": 16,
     "metadata": {},
     "output_type": "execute_result"
    }
   ],
   "source": [
    "df['timeOnSite'].sort_values(ascending=False).head(100)"
   ]
  }
 ],
 "metadata": {
  "kernelspec": {
   "display_name": "Python 3",
   "language": "python",
   "name": "python3"
  },
  "language_info": {
   "codemirror_mode": {
    "name": "ipython",
    "version": 3
   },
   "file_extension": ".py",
   "mimetype": "text/x-python",
   "name": "python",
   "nbconvert_exporter": "python",
   "pygments_lexer": "ipython3",
   "version": "3.13.3"
  }
 },
 "nbformat": 4,
 "nbformat_minor": 5
}
