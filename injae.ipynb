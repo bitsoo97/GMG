{
 "cells": [
  {
   "cell_type": "code",
   "execution_count": 1,
   "id": "32a0ff4c",
   "metadata": {},
   "outputs": [],
   "source": [
    "import pandas as pd"
   ]
  },
  {
   "cell_type": "code",
   "execution_count": 2,
   "id": "b8eefd94",
   "metadata": {},
   "outputs": [],
   "source": [
    "df = pd.read_csv(r\"C:\\Users\\user\\Downloads\\bq-results-20250805-072127-1754378950748.csv\")"
   ]
  },
  {
   "cell_type": "code",
   "execution_count": 3,
   "id": "97329db8",
   "metadata": {},
   "outputs": [],
   "source": [
    "# visitStartTime 날짜 형식으로 변경\n",
    "df['visitStartTime'] = pd.to_datetime(df['visitStartTime'], unit='s')"
   ]
  },
  {
   "cell_type": "code",
   "execution_count": 4,
   "id": "887ed026",
   "metadata": {},
   "outputs": [
    {
     "data": {
      "text/plain": [
       "0        2016-11-21 14:14:38\n",
       "1        2017-01-18 08:18:50\n",
       "2        2017-04-06 19:46:50\n",
       "3        2017-04-16 00:36:30\n",
       "4        2017-01-26 11:47:04\n",
       "                 ...        \n",
       "901092   2017-07-26 08:20:33\n",
       "901093   2017-03-20 20:24:02\n",
       "901094   2016-08-22 18:22:52\n",
       "901095   2017-03-31 19:12:04\n",
       "901096   2016-09-20 07:38:32\n",
       "Name: visitStartTime, Length: 901097, dtype: datetime64[ns]"
      ]
     },
     "execution_count": 4,
     "metadata": {},
     "output_type": "execute_result"
    }
   ],
   "source": [
    "df['visitStartTime']"
   ]
  },
  {
   "cell_type": "code",
   "execution_count": 11,
   "id": "9d587b83",
   "metadata": {},
   "outputs": [
    {
     "data": {
      "text/plain": [
       "0         1.0\n",
       "1         1.0\n",
       "2         2.0\n",
       "3         1.0\n",
       "4         2.0\n",
       "         ... \n",
       "901092    1.0\n",
       "901093    1.0\n",
       "901094    1.0\n",
       "901095    2.0\n",
       "901096    1.0\n",
       "Name: pageviews, Length: 901097, dtype: float64"
      ]
     },
     "execution_count": 11,
     "metadata": {},
     "output_type": "execute_result"
    }
   ],
   "source": [
    "#pageviews null → 중앙값으로 대체\n",
    "median_value = df['pageviews'].median()\n",
    "df['pageviews'].fillna(median_value)"
   ]
  },
  {
   "cell_type": "code",
   "execution_count": 6,
   "id": "cf68b4c8",
   "metadata": {},
   "outputs": [
    {
     "data": {
      "text/plain": [
       "np.int64(0)"
      ]
     },
     "execution_count": 6,
     "metadata": {},
     "output_type": "execute_result"
    }
   ],
   "source": [
    "df['pageviews'].isnull().sum()"
   ]
  },
  {
   "cell_type": "code",
   "execution_count": 9,
   "id": "e8a07299",
   "metadata": {},
   "outputs": [
    {
     "data": {
      "text/plain": [
       "0          64.0\n",
       "1          64.0\n",
       "2           9.0\n",
       "3          64.0\n",
       "4         278.0\n",
       "          ...  \n",
       "901092     64.0\n",
       "901093     64.0\n",
       "901094     64.0\n",
       "901095     22.0\n",
       "901096     64.0\n",
       "Name: timeOnSite, Length: 901097, dtype: float64"
      ]
     },
     "execution_count": 9,
     "metadata": {},
     "output_type": "execute_result"
    }
   ],
   "source": [
    "# 결측치가 아닌 값만 추출\n",
    "time_On = df['timeOnSite'].dropna()\n",
    "\n",
    "# IQR 계산\n",
    "Q1 = time_On.quantile(0.25)\n",
    "Q3 = time_On.quantile(0.75)\n",
    "IQR = Q3 - Q1\n",
    "\n",
    "# 이상치 기준 설정 (IQR 방식)\n",
    "lower_bound = Q1 - 1.5 * IQR\n",
    "upper_bound = Q3 + 1.5 * IQR\n",
    "\n",
    "# 이상치 제거\n",
    "filtered = time_On[(time_On >= lower_bound) & (time_On <= upper_bound)]\n",
    "\n",
    "# 중앙값 계산 (이상치 제거된 값으로)\n",
    "median_filtered = filtered.median()\n",
    "\n",
    "# 결측치(NaN)를 중앙값으로 대체\n",
    "df['timeOnSite'].fillna(median_filtered)"
   ]
  },
  {
   "cell_type": "code",
   "execution_count": 8,
   "id": "19a4af54",
   "metadata": {},
   "outputs": [
    {
     "data": {
      "text/plain": [
       "np.int64(0)"
      ]
     },
     "execution_count": 8,
     "metadata": {},
     "output_type": "execute_result"
    }
   ],
   "source": [
    "df['timeOnSite'].isnull().sum()"
   ]
  },
  {
   "cell_type": "code",
   "execution_count": null,
   "id": "0e7e59c9",
   "metadata": {},
   "outputs": [],
   "source": []
  }
 ],
 "metadata": {
  "kernelspec": {
   "display_name": "Python 3",
   "language": "python",
   "name": "python3"
  },
  "language_info": {
   "codemirror_mode": {
    "name": "ipython",
    "version": 3
   },
   "file_extension": ".py",
   "mimetype": "text/x-python",
   "name": "python",
   "nbconvert_exporter": "python",
   "pygments_lexer": "ipython3",
   "version": "3.13.3"
  }
 },
 "nbformat": 4,
 "nbformat_minor": 5
}
