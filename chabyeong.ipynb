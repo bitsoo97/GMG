{
 "cells": [
  {
   "cell_type": "code",
   "execution_count": 6,
   "id": "1084af0d",
   "metadata": {},
   "outputs": [],
   "source": [
    "import pandas as pd # 데이터 분석에서 자주 사용되는 라이브 러리\n",
    "import numpy as np # # 다양한 계산을 빠르게 수행하게 돕는 라이브러리\n",
    "import matplotlib.pyplot as plt # 시각화 라이브러리\n",
    "import seaborn as sns # 시각화 라이브러리\n",
    "import scipy.stats as stats # 통계 계산 라이브러리"
   ]
  },
  {
   "cell_type": "code",
   "execution_count": 8,
   "id": "d5822bc2",
   "metadata": {},
   "outputs": [
    {
     "name": "stderr",
     "output_type": "stream",
     "text": [
      "<>:1: SyntaxWarning: invalid escape sequence '\\A'\n",
      "<>:1: SyntaxWarning: invalid escape sequence '\\A'\n",
      "C:\\Users\\Admin\\AppData\\Local\\Temp\\ipykernel_19388\\1967495959.py:1: SyntaxWarning: invalid escape sequence '\\A'\n",
      "  df = pd.read_csv('D:\\AutoBackUp\\Downloads\\GMG.csv')\n",
      "C:\\Users\\Admin\\AppData\\Local\\Temp\\ipykernel_19388\\1967495959.py:1: DtypeWarning: Columns (5) have mixed types. Specify dtype option on import or set low_memory=False.\n",
      "  df = pd.read_csv('D:\\AutoBackUp\\Downloads\\GMG.csv')\n"
     ]
    }
   ],
   "source": [
    "df = pd.read_csv('D:\\AutoBackUp\\Downloads\\GMG.csv')"
   ]
  },
  {
   "cell_type": "code",
   "execution_count": 10,
   "id": "7179431f",
   "metadata": {},
   "outputs": [
    {
     "name": "stdout",
     "output_type": "stream",
     "text": [
      "<class 'pandas.core.frame.DataFrame'>\n",
      "RangeIndex: 901097 entries, 0 to 901096\n",
      "Data columns (total 17 columns):\n",
      " #   Column           Non-Null Count   Dtype  \n",
      "---  ------           --------------   -----  \n",
      " 0   visitId          901097 non-null  int64  \n",
      " 1   pageviews        900997 non-null  float64\n",
      " 2   timeOnSite       450584 non-null  float64\n",
      " 3   source           901097 non-null  object \n",
      " 4   medium           901097 non-null  object \n",
      " 5   keyword          241900 non-null  object \n",
      " 6   browser          901097 non-null  object \n",
      " 7   operatingSystem  901097 non-null  object \n",
      " 8   deviceCategory   901097 non-null  object \n",
      " 9   subContinent     901097 non-null  object \n",
      " 10  country          901097 non-null  object \n",
      " 11  city             901097 non-null  object \n",
      " 12  networkDomain    901097 non-null  object \n",
      " 13  hit_hour         901097 non-null  int64  \n",
      " 14  isInteraction    901097 non-null  bool   \n",
      " 15  pageLoadTime     59 non-null      float64\n",
      " 16  channelGrouping  901097 non-null  object \n",
      "dtypes: bool(1), float64(3), int64(2), object(11)\n",
      "memory usage: 110.9+ MB\n"
     ]
    }
   ],
   "source": [
    "df.info()"
   ]
  },
  {
   "cell_type": "code",
   "execution_count": null,
   "id": "95657e28",
   "metadata": {},
   "outputs": [],
   "source": []
  }
 ],
 "metadata": {
  "kernelspec": {
   "display_name": "Python 3",
   "language": "python",
   "name": "python3"
  },
  "language_info": {
   "codemirror_mode": {
    "name": "ipython",
    "version": 3
   },
   "file_extension": ".py",
   "mimetype": "text/x-python",
   "name": "python",
   "nbconvert_exporter": "python",
   "pygments_lexer": "ipython3",
   "version": "3.13.4"
  }
 },
 "nbformat": 4,
 "nbformat_minor": 5
}
