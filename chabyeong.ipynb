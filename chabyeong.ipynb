{
 "cells": [
  {
   "cell_type": "code",
   "execution_count": 160,
   "id": "1084af0d",
   "metadata": {},
   "outputs": [],
   "source": [
    "import pandas as pd # 데이터 분석에서 자주 사용되는 라이브 러리\n",
    "import numpy as np # # 다양한 계산을 빠르게 수행하게 돕는 라이브러리\n",
    "import matplotlib.pyplot as plt # 시각화 라이브러리\n",
    "import seaborn as sns # 시각화 라이브러리\n",
    "import scipy.stats as stats # 통계 계산 라이브러리"
   ]
  },
  {
   "cell_type": "code",
   "execution_count": 161,
   "id": "d5822bc2",
   "metadata": {},
   "outputs": [
    {
     "name": "stderr",
     "output_type": "stream",
     "text": [
      "<>:1: SyntaxWarning: invalid escape sequence '\\A'\n",
      "<>:1: SyntaxWarning: invalid escape sequence '\\A'\n",
      "C:\\Users\\Admin\\AppData\\Local\\Temp\\ipykernel_19388\\690671193.py:1: SyntaxWarning: invalid escape sequence '\\A'\n",
      "  df = pd.read_csv('D:\\AutoBackUp\\Downloads\\GMG.2.csv')\n"
     ]
    }
   ],
   "source": [
    "df = pd.read_csv('D:\\AutoBackUp\\Downloads\\GMG.2.csv')"
   ]
  },
  {
   "cell_type": "code",
   "execution_count": 162,
   "id": "7179431f",
   "metadata": {},
   "outputs": [
    {
     "name": "stdout",
     "output_type": "stream",
     "text": [
      "<class 'pandas.core.frame.DataFrame'>\n",
      "RangeIndex: 901097 entries, 0 to 901096\n",
      "Data columns (total 24 columns):\n",
      " #   Column           Non-Null Count   Dtype  \n",
      "---  ------           --------------   -----  \n",
      " 0   visitNumber      901097 non-null  int64  \n",
      " 1   visitId          901097 non-null  int64  \n",
      " 2   visitStartTime   901097 non-null  int64  \n",
      " 3   date             901097 non-null  int64  \n",
      " 4   pageviews        900997 non-null  float64\n",
      " 5   timeOnSite       450584 non-null  float64\n",
      " 6   source           901097 non-null  object \n",
      " 7   medium           901097 non-null  object \n",
      " 8   keyword          241900 non-null  object \n",
      " 9   browser          901097 non-null  object \n",
      " 10  operatingSystem  901097 non-null  object \n",
      " 11  deviceCategory   901097 non-null  object \n",
      " 12  subContinent     901097 non-null  object \n",
      " 13  country          901097 non-null  object \n",
      " 14  city             901097 non-null  object \n",
      " 15  networkDomain    901097 non-null  object \n",
      " 16  hit_hour         901097 non-null  int64  \n",
      " 17  isInteraction    901097 non-null  bool   \n",
      " 18  pageTitle        900944 non-null  object \n",
      " 19  pagePath         901097 non-null  object \n",
      " 20  productCategory  236585 non-null  object \n",
      " 21  promoName        273224 non-null  object \n",
      " 22  promoPosition    273224 non-null  object \n",
      " 23  channelGrouping  901097 non-null  object \n",
      "dtypes: bool(1), float64(2), int64(5), object(16)\n",
      "memory usage: 159.0+ MB\n"
     ]
    }
   ],
   "source": [
    "df.info()"
   ]
  },
  {
   "cell_type": "code",
   "execution_count": 163,
   "id": "f5bb61e2",
   "metadata": {},
   "outputs": [
    {
     "data": {
      "text/plain": [
       "visitNumber             0\n",
       "visitId                 0\n",
       "visitStartTime          0\n",
       "date                    0\n",
       "pageviews             100\n",
       "timeOnSite         450513\n",
       "source                  0\n",
       "medium                  0\n",
       "keyword            659197\n",
       "browser                 0\n",
       "operatingSystem         0\n",
       "deviceCategory          0\n",
       "subContinent            0\n",
       "country                 0\n",
       "city                    0\n",
       "networkDomain           0\n",
       "hit_hour                0\n",
       "isInteraction           0\n",
       "pageTitle             153\n",
       "pagePath                0\n",
       "productCategory    664512\n",
       "promoName          627873\n",
       "promoPosition      627873\n",
       "channelGrouping         0\n",
       "dtype: int64"
      ]
     },
     "execution_count": 163,
     "metadata": {},
     "output_type": "execute_result"
    }
   ],
   "source": [
    "df.isnull().sum()"
   ]
  },
  {
   "cell_type": "markdown",
   "id": "3da9a546",
   "metadata": {},
   "source": [
    "# 컬럼 확인"
   ]
  },
  {
   "cell_type": "code",
   "execution_count": 164,
   "id": "0584f779",
   "metadata": {},
   "outputs": [
    {
     "data": {
      "text/plain": [
       "array(['/home', '/google+redesign/office',\n",
       "       '/google+redesign/electronics/audio/google+g+noise+reducing+bluetooth+headphones.axd',\n",
       "       ...,\n",
       "       '/google+redesign/apparel/men+s+google+full+zip+fleece+2x.axd',\n",
       "       '/google+redesign/office/writing/bic+anthem+pen.axd',\n",
       "       '/google+redesign/brands/go/go+gopher+messenger+bag.axd'],\n",
       "      shape=(1283,), dtype=object)"
      ]
     },
     "execution_count": 164,
     "metadata": {},
     "output_type": "execute_result"
    }
   ],
   "source": [
    "df['pagePath'].unique()"
   ]
  },
  {
   "cell_type": "code",
   "execution_count": 165,
   "id": "01ab5768",
   "metadata": {},
   "outputs": [
    {
     "name": "stdout",
     "output_type": "stream",
     "text": [
      "0         /home\n",
      "1         /home\n",
      "2         /home\n",
      "4         /home\n",
      "5         /home\n",
      "          ...  \n",
      "901091    /home\n",
      "901093    /home\n",
      "901094    /home\n",
      "901095    /home\n",
      "901096    /home\n",
      "Name: pagePath, Length: 627910, dtype: object\n"
     ]
    }
   ],
   "source": [
    "filtered_df = df[df['pagePath'].str.contains('home', na=False)]\n",
    "print(filtered_df['pagePath'])"
   ]
  },
  {
   "cell_type": "code",
   "execution_count": 166,
   "id": "b793419b",
   "metadata": {},
   "outputs": [
    {
     "data": {
      "text/plain": [
       "array(['Google Online Store', 'Home', 'Office | Google Merchandise Store',\n",
       "       'The Google Merchandise Store/Google G Noise-reducing Bluetooth Headphones',\n",
       "       'Electronics',\n",
       "       'Home|https://shop.googlemerchandisestore.com/?utm_source=Partners&utm_medium=affiliate&utm_campaign=Data%20Share%20Promo',\n",
       "       'Android', 'The Google Merchandise Store - Register',\n",
       "       'Home - https://shop.googlemerchandisestore.com/?utm_source=Partners&utm_medium=affiliate&utm_campaign=Data%20Share%20Promo',\n",
       "       \"Men's Outerwear | Apparel | Google Merchandise Store\",\n",
       "       'Store search results',\n",
       "       'Audio | Electronics | Google Merchandise Store',\n",
       "       'Drinkware | Google Merchandise Store', 'Shipping Information',\n",
       "       \"Men's\", 'Shopping Cart',\n",
       "       'Water Bottles & Tumblers | Drinkware | Google Merchandise Store',\n",
       "       'Drinkware', 'Office', \"Men's-T-Shirts\",\n",
       "       'Backpacks | Bags | Google Merchandise Store',\n",
       "       \"Men's Apparel | Google Merchandise Store\",\n",
       "       'The Google Merchandise Store - Log In',\n",
       "       'Shop by Brand | Google Merchandise Store',\n",
       "       'Fun | Accessories | Google Merchandise Store',\n",
       "       'Android | Shop by Brand | Google Merchandise Store',\n",
       "       'Google Spiral Leather Journal', 'Bags', 'Lifestyle',\n",
       "       \"Men's T-Shirts | Apparel | Google Merchandise Store\",\n",
       "       'Notebooks & Journals | Office | Google Merchandise Store',\n",
       "       'YouTube | Shop by Brand | Google Merchandise Store',\n",
       "       'Home - https://shop.googlemerchandisestore.com/',\n",
       "       'Google | Shop by Brand | Google Merchandise Store',\n",
       "       'Electronics | Google Merchandise Store', 'Page Unavailable',\n",
       "       'Apparel', 'Mugs & Cups | Drinkware | Google Merchandise Store',\n",
       "       \"Kid's\", \"Women's-T-Shirts\",\n",
       "       'Accessories | Google Merchandise Store',\n",
       "       'Bags | Google Merchandise Store', 'Frequently Asked Questions',\n",
       "       'YouTube Leatherette Notebook Combo', 'Keyboard DOT Sticker',\n",
       "       'Terms of Use', 'Gift Cards | Google Merchandise Store',\n",
       "       'Apparel | Google Merchandise Store',\n",
       "       \"Google Women's 3/4 Sleeve Baseball Raglan Heather/Black\",\n",
       "       'Backpacks', \"Google Men's Short Sleeve Badge Tee Charcoal\",\n",
       "       'Housewares | Accessories | Google Merchandise Store',\n",
       "       \"Women's T-Shirts | Apparel | Google Merchandise Store\",\n",
       "       'Headgear | Apparel | Google Merchandise Store', 'YouTube',\n",
       "       'The Google Merchandise Store/Malibu Sunglasses',\n",
       "       \"YouTube Men's Long Sleeve Pullover Badge Tee Heather\",\n",
       "       \"YouTube Men's Fleece Hoodie Black\",\n",
       "       \"Google Men's Performance Full Zip Jacket Black\",\n",
       "       'Pet | Accessories | Google Merchandise Store',\n",
       "       'Spiral Notebook and Pen Set',\n",
       "       'The Google Merchandise Store/Pen Pencil & Highlighter Set',\n",
       "       'More Bags | Bags | Google Merchandise Store',\n",
       "       'Accessories | Electronics | Google Merchandise Store',\n",
       "       'Google 22 oz Water Bottle', 'Crunch Noise Dog Toy',\n",
       "       'Bluetooth Headphones', 'Waze Dress Socks',\n",
       "       'The Google Merchandise Store/Svanasana Yoga Block',\n",
       "       \"Google Women's Short Sleeve Hero Tee Black\",\n",
       "       'Writing Instruments | Office | Google Merchandise Store',\n",
       "       'Google Kick Ball', 'Google', 'BLM Sweatshirt',\n",
       "       'Android Rise 14 oz Mug',\n",
       "       \"Google Men's Softshell Jacket Black/Grey\",\n",
       "       'Google Alpine Style Backpack',\n",
       "       'The Google Merchandise Store - My Account',\n",
       "       \"Google Men's Lightweight Microfleece Jacket Black\",\n",
       "       'Flashlights | Electronics | Google Merchandise Store',\n",
       "       \"Google Men's Quilted Insulated Vest Battleship Grey\",\n",
       "       \"Google Men's Quilted Insulated Vest Black\", 'Fruit Games',\n",
       "       'Google Youth Girl Hoodie',\n",
       "       \"Google Men's 100% Cotton Short Sleeve Hero Tee Black\",\n",
       "       'Android Baby Essentials Baby Set',\n",
       "       \"Google Men's 3/4 Sleeve Raglan Henley Grey\", 'Google Twill Cap',\n",
       "       \"Google Women's Performance Full Zip Jacket Black\",\n",
       "       \"Google Men's 100% Cotton Short Sleeve Hero Tee White\",\n",
       "       'Google Power Bank', \"Women's Apparel | Google Merchandise Store\",\n",
       "       'Power', \"Google Men's Vintage Badge Tee Black\",\n",
       "       \"Google Men's Bike Short Sleeve Tee Charcoal\",\n",
       "       'Category Unavailable', 'Google Rucksack',\n",
       "       'Prendas de abrigo | prendas de vestir | Google tienda de artículos',\n",
       "       \"Kids' Apparel | Google Merchandise Store\",\n",
       "       \"Google Men's Zip Hoodie\", 'Google Zipper-front Sports Bag',\n",
       "       'YouTube Twill Cap', 'The Google Merchandise Store/Maze Pen',\n",
       "       \"Android Men's Zip Hoodie\",\n",
       "       'Stickers | Accessories | Google Merchandise Store',\n",
       "       \"Women's Outerwear | Apparel | Google Merchandise Store\",\n",
       "       \"Men's Performance Wear | Apparel | Google Merchandise Store\",\n",
       "       \"Women's YouTube Short Sleeve Hero Tee Black\",\n",
       "       'Other | Office | Google Merchandise Store',\n",
       "       'Nest Protect Smoke + CO White Wired Alarm-USA',\n",
       "       'Waze Mood Original Window Decal',\n",
       "       'Waze Baby on Board Window Decal', 'YouTube Onesie Heather',\n",
       "       'Return Policy',\n",
       "       \"Google Men's Around The Block Short Sleeve Tee Ash\",\n",
       "       'Google Baby Essentials Set',\n",
       "       'Google Infant Short Sleeve Tee White', 'Google RFID Journal',\n",
       "       'Accessories',\n",
       "       'The Google Merchandise Store/22 oz YouTube Bottle Infuser',\n",
       "       'Waterproof Backpack', 'Color Changing Grip Pen',\n",
       "       'Shopping & Totes | Bags | Google Merchandise Store',\n",
       "       'Waze | Google Merchandise Store',\n",
       "       'Power & Chargers | Electronics | Google Merchandise Store',\n",
       "       'Nest® Learning Thermostat 3rd Gen-USA - Stainless Steel',\n",
       "       'Google Vintage Henley Grey/Black', 'Android BTTF Cosmos Shirt',\n",
       "       \"Google Women's Tee Grey\",\n",
       "       'Google Toddler Short Sleeve T-shirt Green',\n",
       "       'Google 2200mAh Micro Charger', 'Google Slim Utility Travel Bag',\n",
       "       'Google Phone Sanitizer',\n",
       "       'The Google Merchandise Store/Leatherette Journal',\n",
       "       'Shopping and Totes',\n",
       "       'The Google Merchandise Store/1 oz Hand Sanitizer',\n",
       "       'Sports & Fitness | Accessories | Google Merchandise Store',\n",
       "       'YouTube Custom Decals',\n",
       "       'The Google Merchandise Store/Waterpoof Gear Bag',\n",
       "       'YouTube Notebook and Pen Set',\n",
       "       'The Google Merchandise Store/BRIGHTtravels Seat Pack Organizer',\n",
       "       \"Kid's-Infant\", 'YouTube Trucker Hat',\n",
       "       'Google Infant Zip Hood Pink', 'Google Canvas Tote Natural/Navy',\n",
       "       'SPF-15 Slim & Slender Lip Balm', 'Pet',\n",
       "       'Google Accent Insulated Stainless Steel Bottle',\n",
       "       \"Google Women's Fleece Hoodie\",\n",
       "       'Google Toddler Short Sleeve T-shirt Grey',\n",
       "       'The Google Merchandise Store/Galaxy Screen Cleaning Cloth',\n",
       "       'The Google Merchandise Store/Red Spiral Google Notebook',\n",
       "       'Google Youth Short Sleeve Tee White',\n",
       "       \"Android Lifted Men's Short Sleeve Tee Blue\",\n",
       "       \"Google Men's Watershed Full Zip Hoodie Grey\",\n",
       "       \"Google Men's Microfiber 1/4 Zip Pullover Blue/Indigo\",\n",
       "       'Google Tube Power Bank', 'Google Infuser-Top Water Bottle',\n",
       "       'Waze Pack of 9 Decal Set',\n",
       "       \"Google Women's Short Sleeve Performance Tee Charcoal\",\n",
       "       'Micro Wireless Earbuds', 'Electronics Accessories',\n",
       "       'Mugs and Cups', 'Android Onesie Gold',\n",
       "       \"Google Men's 100% Cotton Short Sleeve Hero Tee Navy\",\n",
       "       'Google Stylus Pen w/ LED Light', 'Google Collapsible Pet Bowl',\n",
       "       \"YouTube Women's Fleece Hoodie Black\",\n",
       "       'Google Water Resistant Bluetooth Speaker', 'Google Doodle Decal',\n",
       "       'Google Insulated Stainless Steel Bottle',\n",
       "       'The Google Merchandise Store/22 oz Android Bottle',\n",
       "       'Android Sticker Sheet Ultra Removable', 'Spring Sale',\n",
       "       'Google Tri-blend Hoodie Grey', 'Google Laptop Backpack',\n",
       "       \"Toddler | Kids' Apparel | Google Merchandise Store\",\n",
       "       'Google Wool Heather Cap Heather/Navy',\n",
       "       'The Google Merchandise Store/Windup Android', 'Google Flashlight',\n",
       "       \"Men's-Outerwear\",\n",
       "       'The Google Merchandise Store/Red Shine 15 oz Mug',\n",
       "       'MUZIK GA Tutorial Website', '26 oz Double Wall Insulated Bottle',\n",
       "       \"Google Men's Short Sleeve Hero Tee Charcoal\", 'Clearance Sale',\n",
       "       'Shop by Brand', \"Google Women's Short Sleeve Hero Tee Dark Grey\",\n",
       "       \"Google Men's Bayside Graphic Tee\",\n",
       "       \"Youth | Kids' Apparel | Google Merchandise Store\",\n",
       "       'Google Heavyweight Long Sleeve Hero Tee Navy',\n",
       "       'The Google Merchandise Store/7\" Dog Safe Flyer',\n",
       "       'Insulated Bottle', \"Google Men's Pullover Hoodie\",\n",
       "       'Nest® Learning Thermostat 3rd Gen-USA',\n",
       "       'The Google Merchandise Store/14 oz Jumbo Ceramic Mug',\n",
       "       'Google Laptop and Cell Phone Stickers',\n",
       "       'Google Toddler Hoodie Royal Blue', 'Micro Wireless Earbud',\n",
       "       \"Infant | Kids' Apparel | Google Merchandise Store\", 'Stickers',\n",
       "       'Compact Bluetooth Speaker',\n",
       "       'Android Heavyweight Long Sleeve Badge Tee Black',\n",
       "       \"Google Women's 1/4 Zip Performance Pullover Black\",\n",
       "       \"Google Women's Muscle Tee\",\n",
       "       'Android Wool Heather Cap Heather/Black',\n",
       "       \"Google Women's V-Neck Tee Charcoal\", 'Foam Can and Bottle Cooler',\n",
       "       \"Women's\", 'Nest Protect Smoke + CO White Battery Alarm-USA',\n",
       "       \"Google Men's Performance 1/4 Zip Pullover Heather/Black\",\n",
       "       'Ballpoint Stylus Pen', \"Google Men's Pullover Hoodie Grey\",\n",
       "       'Google Onesie Royal Blue', \"Kid's-Toddler\",\n",
       "       \"YouTube Women's Short Sleeve Tri-blend Badge Tee Grey\",\n",
       "       'More Bags', 'Google Spiral Journal with Pen',\n",
       "       'Google Toddler Short Sleeve T-shirt Yellow', 'Google Trucker Hat',\n",
       "       \"Android Men's Vintage Tank\", 'Softsided Travel Pouch Set',\n",
       "       \"Google Women's Short Sleeve Hero Tee White\",\n",
       "       'The Google Merchandise Store/24 oz YouTube Sergeant Stripe Bottle',\n",
       "       'Collapsible Shopping Bag', 'Recycled Paper Journal Set',\n",
       "       'Android Lunch Kit', 'Yoga Mat', \"Google Men's Vintage Tank\",\n",
       "       \"Google Men's Vintage Badge Tee Sage\", 'Google Pet Feeding Mat',\n",
       "       \"YouTube Men's Short Sleeve Hero Tee Charcoal\",\n",
       "       'Google Collapsible Duffel',\n",
       "       'Google 25 oz Clear Stainless Steel Bottle',\n",
       "       'The Google Merchandise Store/Basecamp Explorer Powerbank Flashlight',\n",
       "       \"Android Men's Vintage Henley\", 'Android Journal Book Set',\n",
       "       'Water Bottles and Tumblers',\n",
       "       'Android Toddler Short Sleeve T-shirt Aqua',\n",
       "       \"YouTube Men's Short Sleeve Hero Tee White\",\n",
       "       \"Google Women's Weatherblock Shell Jacket Black\",\n",
       "       'Four Color Retractable Pen',\n",
       "       \"Women's Performance Wear | Apparel | Google Merchandise Store\",\n",
       "       'Reusable Shopping Bag', 'Google Car Clip Phone Holder',\n",
       "       'Google Pocket Bluetooth Speaker',\n",
       "       \"Google Men's Long Sleeve Raglan Ocean Blue\",\n",
       "       'Google Metallic Notebook Set', 'Checkout Your Information',\n",
       "       'The Google Merchandise Store/Recycled Mouse Pad',\n",
       "       'Google Hard Cover Journal',\n",
       "       'The Google Merchandise Store/Ballpoint LED Light Pen',\n",
       "       'Badge Holder', \"Google Men's Vintage Badge Tee White\",\n",
       "       \"Google Women's Scoop Neck Tee Black\",\n",
       "       'The Google Merchandise Store/Compact Selfie Stick',\n",
       "       \"Android Men's Long Sleeve Badge Crew Tee Heather\",\n",
       "       '20 oz Stainless Steel Insulated Tumbler',\n",
       "       \"Android Men's Short Sleeve Hero Tee Heather\", 'Fun',\n",
       "       \"Google Men's Short Sleeve Performance Badge Tee Black\",\n",
       "       \"Waze Women's Typography Short Sleeve Tee\",\n",
       "       'The Google Merchandise Store/Crunch-It Dog Toy',\n",
       "       'Metal Texture Roller Pen', 'Clip-on Compact Charger',\n",
       "       \"Google Women's Quilted Insulated Vest Black\",\n",
       "       \"Google Women's Long Sleeve Tee Lavender\",\n",
       "       \"Google Women's Yoga Pants\", 'Google Snapback Hat Black',\n",
       "       \"Google Men's Airflow 1/4 Zip Pullover Black\",\n",
       "       '25L Classic Rucksack',\n",
       "       \"Google Women's Convertible Vest-Jacket Sea Foam Green\",\n",
       "       \"YouTube Women's Short Sleeve Hero Tee Charcoal\",\n",
       "       \"Google Women's Convertible Vest-Jacket Black\",\n",
       "       'Writing Instruments', \"Google Women's Vintage Hero Tee Lavender\",\n",
       "       'Google Executive Umbrella', 'Android 24 oz Contigo Bottle',\n",
       "       'Ballpoint Stick Pen 4 Pack',\n",
       "       'The Google Merchandise Store/Colored Pencil Set',\n",
       "       \"Women's-Outerwear\", 'Android BTTF Moonshot Shirt',\n",
       "       \"Google Men's Skater Tee Charcoal\",\n",
       "       \"Google Women's Short Sleeve Performance Tee Pewter\",\n",
       "       'Retractable Ballpoint Pen Red',\n",
       "       'Google Bluetooth Speaker-Power Bank',\n",
       "       \"Google Women's Recycled Fabric Tee\",\n",
       "       'The Google Merchandise Store/Rocket Flashlight',\n",
       "       'Google High Capacity 10,400mAh Charger',\n",
       "       \"Google Men's Colorblock Tee White/Heather\",\n",
       "       'YouTube Youth Short Sleeve Tee Red', 'Notebooks & Journals',\n",
       "       'Google Laptop Tech Backpack',\n",
       "       'Google Heavyweight Long Sleeve Hero Tee Burgundy', 'Headgear',\n",
       "       'Google Lunch Bag', 'Kids-Youth', 'Google Leather Journal',\n",
       "       \"Google Men's Short Sleeve Hero Tee Heather\",\n",
       "       'Google 4400mAh Power Bank', 'Google Electronics Accessory Pouch',\n",
       "       'Housewares', 'YouTube Wool Heather Cap Heather/Black',\n",
       "       \"Google Men's Weatherblock Shell Jacket Black\", 'Sports & Fitness',\n",
       "       'Google 3/4 Sleeve Raglan Badge Henley Black', 'Google Tote Bag',\n",
       "       'Digital Lightshow Smart Speaker and Notification Center',\n",
       "       'Google Luggage Tag', \"Men's T-Shirts\",\n",
       "       \"Google Men's Performance Polo Grey/Black\",\n",
       "       \"Google Women's Short Sleeve Hero Tee Red Heather\",\n",
       "       'YouTube Luggage Tag',\n",
       "       'The Google Merchandise Store/Ballpoint & Matching Tube Case',\n",
       "       'Google Onesie Red',\n",
       "       'The Google Merchandise Store/Solo Pro Backpack',\n",
       "       'Leather and Metal Ballpoint Pen',\n",
       "       \"Google Men's Convertible Vest-Jacket Pewter\",\n",
       "       'YouTube Hard Cover Journal', \"Google Men's Skater Tee Grey\",\n",
       "       \"Google Women's Lightweight Microfleece Jacket\",\n",
       "       \"Google Women's Softshell Jacket Black/Grey\",\n",
       "       \"Android Women's Long Sleeve Blended Cardigan Grey\",\n",
       "       \"YouTube Men's Short Sleeve Hero Tee Black\", 'Flashlights',\n",
       "       \"Google Women's 1/4 Zip Performance Pullover Two-Tone Blue\",\n",
       "       'Bottles', \"Google Women's Zip Hoodie Grey\",\n",
       "       \"Android Women's Fleece Hoodie\", 'Gel Roller Pen',\n",
       "       'The Google Merchandise Store/Straw Beach Mat',\n",
       "       \"YouTube Men's Vintage Henley\", \"Men's-Bike Gear\",\n",
       "       'Google Onesie Red/Graphite', '22 Google Online Store',\n",
       "       \"Google Women's Yoga Jacket Black\", 'Android RFID Journal',\n",
       "       \"Google Men's 100% Cotton Short Sleeve Hero Tee Red\",\n",
       "       'The Google Merchandise Store/Gift Card - $25.00',\n",
       "       'Google Onesie Green',\n",
       "       'The Google Merchandise Store/Gift Card - $250.00',\n",
       "       'Android Glass Water Bottle with Black Sleeve',\n",
       "       \"Google Men's Long Sleeve Pullover Badge Tee Heather\",\n",
       "       \"Google Women's Vintage Hero Tee Platinum\", '电子产品| 谷歌商品商店',\n",
       "       'YouTube RFID Journal', 'Google 25 oz Blue Stainless Steel Bottle',\n",
       "       '23 oz Wide Mouth Sport Bottle', \"YouTube Men's Vintage Tee\",\n",
       "       'Google Youth Short Sleeve T-shirt Yellow',\n",
       "       'The Google Merchandise Store/Fashion Sunglasses & Pouch', 'Mugs',\n",
       "       \"Women's-Performance Wear\", \"YouTube Men's Vintage Tank\",\n",
       "       'Payment Method',\n",
       "       'The Google Merchandise Store/Deluge Waterproof Backpack',\n",
       "       'Google 40 oz Insulated Monster Bottle - https://shop.googlemerchandisestore.com/Google+Redesign/Drinkware/Bottles/Google+40oz+Insulated+Monster+Bottle.axd',\n",
       "       \"Google Women's Tank Top\", 'Suitcase Organizer Cubes',\n",
       "       \"Android Men's Vintage Tee\",\n",
       "       'The Google Merchandise Store/Metal Earbuds with Small Zipper Case',\n",
       "       \"Android Men's Engineer Short Sleeve Tee Charcoal\",\n",
       "       'Google Infant Short Sleeve Tee Red', \"Men's-Performance Wear\",\n",
       "       'Android 17oz Stainless Steel Sport Bottle',\n",
       "       \"Google Women's Short Sleeve Shirt Red\", 'Limited Supply',\n",
       "       'Google Ballpoint Pen Black', 'Android Stretch Fit Hat',\n",
       "       'Nest Protect Smoke + CO Black Battery Alarm-USA',\n",
       "       \"Google Men's Short Sleeve Performance Badge Tee Pewter\",\n",
       "       'UpCycled Handlebar Bag',\n",
       "       'Google Youth Short Sleeve T-shirt Green',\n",
       "       'Google Toddler Short Sleeve Tee White',\n",
       "       'Compact Journal with Recycled Pages',\n",
       "       'Google Long Sleeve Raglan Badge Henley Ocean Blue',\n",
       "       \"Android Women's Short Sleeve Hero Tee Black\",\n",
       "       'Android Toddler Short Sleeve T-shirt Pink',\n",
       "       \"Android Men's Take Charge Short Sleeve Tee Purple\",\n",
       "       'The Google Merchandise Store/24 oz USA Made Aluminum Bottle',\n",
       "       \"Google Women's Quilted Insulated Vest White\",\n",
       "       'Google 40 oz Insulated Monster Bottle',\n",
       "       '16 oz. Hot and Cold Tumbler',\n",
       "       'https://shop.googlemerchandisestore.com/?ci=%7Bifdbm:%7Bcampaignid%7D%7D',\n",
       "       'Nest Cam Outdoor Security Camera - USA',\n",
       "       'Google Infant Short Sleeve Tee Cornflower Blue',\n",
       "       'Google Toddler Raglan Shirt Blue Heather/Navy', 'Audio',\n",
       "       'Google 17 oz Double Wall Stainless Steel Insulated Bottle',\n",
       "       'Google 17oz Stainless Steel Sport Bottle',\n",
       "       \"Android Men's Short Sleeve Hero Tee White\",\n",
       "       \"YouTube Women's Short Sleeve Tri-blend Badge Tee Charcoal\", nan,\n",
       "       'Go', 'Google Bib Red',\n",
       "       'Android Youth Short Sleeve T-shirt Pewter',\n",
       "       'YouTube Spiral Journal with Pen',\n",
       "       \"Google Women's Short Sleeve Shirt Blue\", '该谷歌商品商店 - 登录',\n",
       "       'Grip Highlighter Pen 3 Pack', 'Google Stretch Fit Hat',\n",
       "       'Satin Black Ballpoint Pen',\n",
       "       'Google Bongo Cupholder Bluetooth Speaker',\n",
       "       \"Google Men's Vintage Badge Tee Green\",\n",
       "       \"Google Men's Short Sleeve Performance Badge Tee Navy\",\n",
       "       'The Google Merchandise Store/Bottle Opener Clip',\n",
       "       'YouTube Womens 3/4 Sleeve Baseball Raglan White/Black',\n",
       "       \"Google Women's Short Sleeve Performance Tee Black\",\n",
       "       \"Google Women's Vintage Hero Tee Black\",\n",
       "       'Android Hard Cover Journal',\n",
       "       \"Google Women's Vintage T-Shirt Black\",\n",
       "       \"Android Women's Short Sleeve Badge Tee Dark Heather\",\n",
       "       \"Android Men's Short Sleeve Tri-blend Hero Tee Grey\", 'Gift Cards',\n",
       "       'Google Youth Tee Fruit Games Pineapple',\n",
       "       'The Google Merchandise Store/22 oz Mini Mountain Bottle',\n",
       "       'Waze Mood Happy Window Decal', '8 pc Android Sticker Sheet',\n",
       "       \"Google Women's 1/4 Zip Jacket Charcoal\",\n",
       "       \"Google Men's Microfiber 1/4 Zip Pullover Grey/Black\",\n",
       "       'The Google Merchandise Store/16 oz. Hot/Cold Tumbler',\n",
       "       'The Google Merchandise Store/Pop-a-Point Crayon',\n",
       "       \"Waze Men's Typography Short Sleeve Tee\",\n",
       "       \"Google Women's Scoop Neck Tee White\",\n",
       "       'Google Flashlight - https://shop.googlemerchandisestore.com/Google+Redesign/Electronics/Accessories/Google+Flashlight.axd',\n",
       "       'Office Other',\n",
       "       'The Google Merchandise Store/ATOM Wireless Earbud Headset',\n",
       "       \"Android Men's Pep Rally Short Sleeve Tee Navy\",\n",
       "       'Android Onesie Sprout Green', 'Android Onesie Baby Blue',\n",
       "       'Shopping',\n",
       "       'Google | Shop by Brand | Google Merchandise Store - https://shop.googlemerchandisestore.com/Google+Redesign/Shop+by+Brand/Google',\n",
       "       'Android Luggage Tag', 'Local Guides',\n",
       "       'Google Infant Zip Hood Royal Blue',\n",
       "       'Rubber Grip Ballpoint Pen 4 Pack', 'Android女裝羊毛連帽衫',\n",
       "       \"YouTube Men's Skater Tee Charcoal\",\n",
       "       'The Google Merchandise Store/BRIGHTtravels Set of 3 Packing Cubes',\n",
       "       'Google Device Holder Sticky Pad',\n",
       "       'Nest Protect Smoke + CO Black Wired Alarm-USA',\n",
       "       'Bic Intensity Clic Gel Pen',\n",
       "       'The Google Merchandise Store/Blue Metallic Textured Spiral Notebook Set',\n",
       "       \"Google Men's Performance Hero Tee Gunmetal\",\n",
       "       \"Google Women's Shell Jacket Blue/Black\",\n",
       "       \"Google Men's Long & Lean Tee Grey\",\n",
       "       'Switch Tone Color Crayon Pen',\n",
       "       'Google Online Store - https://www.googlemerchandisestore.com/',\n",
       "       \"YouTube Women's Short Sleeve Crew Tee\",\n",
       "       \"Android Men's Paradise Short Sleeve Tee Olive\",\n",
       "       'Google Youth Girl Tee Green',\n",
       "       \"Google Women's Short Sleeve Badge Tee Navy\",\n",
       "       'Google Infant Short Sleeve Tee Royal Blue',\n",
       "       'https://shop.googlemerchandisestore.com/?cid=939&src=abc',\n",
       "       'الروبوت | التسوق بالعلامة التجارية | مخزن بضائع جوجل',\n",
       "       \"Google Women's Vintage Hero Tee White\", 'Kids', 'Casa',\n",
       "       'Google Bib White', 'Android Toddler Short Sleeve T-shirt Pewter',\n",
       "       'You Tube Toddler Short Sleeve Tee Red',\n",
       "       \"Google Men's Heavyweight Long Sleeve Hero Tee Navy\",\n",
       "       \"YouTube Men's 3/4 Sleeve Henley\",\n",
       "       'The Google Merchandise Store/Plastic Sliding Flashlight',\n",
       "       'The Google Merchandise Store/Oasis Backpack',\n",
       "       \"Google Men's Airflow 1/4 Zip Pullover Lapis\",\n",
       "       \"Google Women's Long Sleeve Blended Cardigan Charcoal\",\n",
       "       \"Google Men's Long Sleeve Raglan Cranberry\",\n",
       "       \"Google Women's Performance Golf Polo Blue\", 'Google PowerKit',\n",
       "       \"YouTube Men's Eco-Jersey Henley\",\n",
       "       'Google Toddler Short Sleeve T-shirt Royal Blue',\n",
       "       'Сумки | Товаровед Магазина Google',\n",
       "       \"Google Women's Short Sleeve Badge Tee Grey\",\n",
       "       'YouTube Infant Short Sleeve Tee Red', '男式T卹| 服裝| 谷歌商品商店',\n",
       "       \"Android Men's Skater Badge Tee Charcoal\",\n",
       "       'Android 25 oz Green Apple Stainless Steel Bottle',\n",
       "       \"Men's Weatherblock Shell Jacket Black\", 'Google+',\n",
       "       \"YouTube Men's Long & Lean Tee Charcoal\",\n",
       "       'Executive Twist Ballpoint Pen', \"Google Women's V-Neck Tee Grey\",\n",
       "       'The Google Merchandise Store/Gift Card - $100.00',\n",
       "       'الصفحة الرئيسية', '2: Home',\n",
       "       'The Google Merchandise Store/Grip Kit Cable Organizer',\n",
       "       'YouTube | Einkauf nach Marke | Google-Merchandise-Store', '家',\n",
       "       'Gunmetal Roller Ball Pen',\n",
       "       \"YouTube Women's Racer Back Tank Black\",\n",
       "       \"Google Women's Performance Polo Grey/Black\",\n",
       "       \"Google Women's Short Sleeve Hero Tee Sky Blue\", 'Checkout Review',\n",
       "       \"Google Men's Short Sleeve Hero Tee Light Blue\",\n",
       "       'Android Twill Cap', 'Rocket Flashlight',\n",
       "       'The Google Merchandise Store/Gift Card - $50.00',\n",
       "       'Aluminum Handy Emergency Flashlight',\n",
       "       'The Google Merchandise Store/Mistral Rucksack',\n",
       "       'Google Youth Tee Fruit Games Banana', 'Huis',\n",
       "       'Ballpoint Pen Blue', 'Google Youth Baseball Raglan Heather/Black',\n",
       "       'Checkout Confirmation', \"Men's-Polo\", '7: Home',\n",
       "       'The Google Merchandise Store/Eco-Aware Large Recycled Journal Combo',\n",
       "       \"Google Women's Tank Top Light Gray\",\n",
       "       'Google Youth Short Sleeve T-shirt Royal Blue', 'Nhà', 'Zuhause',\n",
       "       'По бренду товара магазин с YouTube | магазин | Гугл',\n",
       "       'The Google Merchandise Store/Kick Ball', '你的購物車!!!',\n",
       "       \"Google Women's Short Sleeve Performance Tee Navy\",\n",
       "       'The Google Merchandise Store/UFO Bluetooth Water Resistant Speaker',\n",
       "       \"Google Men's Heavyweight Long Sleeve Hero Tee Burgundy\",\n",
       "       'The Google Merchandise Store/Stadium Cups-Sets of 4',\n",
       "       'Google Toddler Short Sleeve Tee Red',\n",
       "       \"Google Women's Performance Hero Tee Gunmetal\",\n",
       "       'Google Toddler Sports T-shirt Red',\n",
       "       'Audio | Elektronik | Google Merchandise Store',\n",
       "       'YouTube | Markaya göre alışveriş | Google Merchandise Store',\n",
       "       'Android Spiral Journal with Pen',\n",
       "       'Page Unavailable - https://shop.googlemerchandisestore.com/',\n",
       "       \"Google Women's Hero V-Neck Tee White\",\n",
       "       \"Men's-T-Shirts - https://shop.googlemerchandisestore.com/Google+Redesign/Apparel/Men++s/Men++s+T+Shirts\",\n",
       "       \"Android Men's Long & Lean Badge Tee Charcoal\",\n",
       "       'Google Toddler 1/4 Zip Fleece Pewter',\n",
       "       \"Google Women's Short Sleeve Hero V-Neck Tee Black\",\n",
       "       'Yoga Mat Blue', 'Android Infant Short Sleeve Tee Pewter',\n",
       "       'Android Baby Essentials Set',\n",
       "       \"Google Women's Short Sleeve V-Neck Tee Lavender\",\n",
       "       'Google Youth Sports Tee Navy', \"Men's Outerwear\",\n",
       "       \"Men's Softshell Jacket Black/Grey\",\n",
       "       'Google Adult Tee Fruit Games Pineapple',\n",
       "       'Water Bottles & Tumblers | Drinkware | Google Merchandise Store - https://shop.googlemerchandisestore.com/Google+Redesign/bags/water+bottles+and+tumblers',\n",
       "       \"Google Women's Short Sleeve Hero Tee Grey\",\n",
       "       \"Google Women's Scoop Neck Tee Green\",\n",
       "       'Google 25 oz Red Stainless Steel Bottle',\n",
       "       'The Google Merchandise Store/Latitudes Foldaway Shopper',\n",
       "       'Google Toddler Tee Fruit Games Lemon', 'Your Wishlist',\n",
       "       'Nest® Learning Thermostat 3rd Gen-USA - Copper',\n",
       "       \"Google Women's Short Sleeve V-Neck Tee Black\",\n",
       "       \"Google Women's Colorblock Tee White\",\n",
       "       'Sacs | Google Marchandise magasin',\n",
       "       'YouTube | Magasinez par marque | Google Marchandise magasin',\n",
       "       'Google Stretch Fit Hat L/XL Navy',\n",
       "       'T-shirt | Abbigliamento | Merchandise Store di Google',\n",
       "       'The Google Merchandise Store/Android 24 oz Contigo Bottle',\n",
       "       'The Google Merchandise Store/Blue Keeper Notebook Set with Flap',\n",
       "       'Google 3/4 Sleeve Raglan Henley Grey',\n",
       "       \"Google Men's Performance Tee Gunmetal\",\n",
       "       \"Google Women's Short Sleeve Hero Tee Heather\", 'Brands',\n",
       "       '9: Home', 'Google商品商店 - 登录',\n",
       "       'Google Toddler Tee Fruit Games Strawberry',\n",
       "       \"Google Men's Short Sleeve Performance Badge Tee Charcoal\",\n",
       "       'weixin://private/setresult/SCENE_FETCHQUEUE&eyJmdW5jIjoibG9nIiwicGFyYW1zIjp7Im1zZyI6Il9ydW5PbjNyZEFwaUxpc3QgOiBtZW51OnNoYXJlOnRpbWVsaW5lLG1lbnU6c2hhcmU6YXBwbWVzc2FnZSxvblZvaWNlUmVjb3JkRW5kLG9uVm9pY2VQbGF5QmVnaW4sb25Wb2ljZVBsYXlFbmQsb25Mb2NhbEltYWdlVXBsb2FkUHJvZ3Jlc3Msb25JbWFnZURvd25sb2FkUHJvZ3Jlc3Msb25Wb2ljZVVwbG9hZFByb2dyZXNzLG9uVm9pY2VEb3dubG9hZFByb2dyZXNzLG1lbnU6c2V0Zm9udCxtZW51OnNoYXJlOndlaWJvLG1lbnU6c2hhcmU6ZW1haWwsd3hkb3dubG9hZDpzdGF0ZV9jaGFuZ2UsaGRPbkRldmljZVN0YXRlQ2hhbmdlZCxhY3Rpdml0eTpzdGF0ZV9jaGFuZ2UifSwiX19tc2dfdHlwZSI6ImNhbGwiLCJfX2NhbGxiYWNrX2lkIjoiMTAwMCJ9',\n",
       "       'Nest® Learning Thermostat 3rd Gen-USA - White', '谷歌电子配件袋',\n",
       "       \"Android Women's Racer Back Tank Black\",\n",
       "       'Google Womens 3/4 Sleeve Baseball Raglan Heather/Black',\n",
       "       '5 Google Online Store', 'Acasă',\n",
       "       'Google Adult Tee Fruit Games Cherries',\n",
       "       \"Google Women's Short Sleeve Badge Tee Red Heather\",\n",
       "       'Google Merchandise Store - Maintenance', 'घर',\n",
       "       'Google Интернет-магазин', 'YouTube | 按品牌| Google商品商店', 'Дома',\n",
       "       \"Google Women's Short Sleeve V-Neck Tee Dark Grey\",\n",
       "       'Android Infant Short Sleeve Tee Pink',\n",
       "       'The Google Merchandise Store/Google G Noise-reducing Bluetooth Headphones - https://shop.googlemerchandisestore.com/Google+Redesign/Electronics/Audio/Google+G+Noise+reducing+Bluetooth+Headphones.axd',\n",
       "       'Google Toddler Tee Fruit Games Pineapple', 'Rainbow Stylus Pen',\n",
       "       \"Android Men's 3/4 Sleeve Raglan Henley Black\", 'Wearables', 'ホーム',\n",
       "       'Headwear', 'https://shop.googlemerchandisestore.com/', '4: Home',\n",
       "       'Bags - https://shop.googlemerchandisestore.com/Google+Redesign/Bags',\n",
       "       \"Google Men's Long & Lean Tee Charcoal\",\n",
       "       \"Google Women's Insulated Thermal Vest Navy\", 'Yoga Mat Purple',\n",
       "       '2: 8 pc Android Sticker Sheet', '6: Home',\n",
       "       \"Google Women's Short Sleeve Shirt Dark Grey\", '12: Home',\n",
       "       'The Google Merchandise Store/Speed Zone Air Mesh Tote',\n",
       "       'Available Sites - LanSchool',\n",
       "       'Google Canvas Tote Fruit Games Lemon',\n",
       "       'Google Infant Short Sleeve Tee Green',\n",
       "       \"2: Google Women's Performance Full Zip Jacket Black\", 'Ev',\n",
       "       '女士服装| 服装| Google商品商店', '7 Home',\n",
       "       'The Google Merchandise Store/Chevron Shopper',\n",
       "       'Google Adult Tee Fruit Games Dragonfruit',\n",
       "       'Google Youth Short Sleeve Tee Red',\n",
       "       'Google Online Store - HVKeyboard Hide',\n",
       "       'Google Collapsible Duffel Black',\n",
       "       'Apparel | Google Merchandise Store - https://shop.googlemerchandisestore.com/',\n",
       "       '2 The Google Merchandise Store - Log In', '4 Google Online Store',\n",
       "       \"Men's T-Shirts | Apparel | Google Merchandise Store |url:[https://shop.googlemerchandisestore.com/Google+Redesign/Apparel/Men++s/Men++s+T+Shirts]\",\n",
       "       'Google Kick Ball - https://shop.googlemerchandisestore.com/Google+Redesign/Lifestyle/Fun/Google+Kick+Ball.axd',\n",
       "       'Google Infant Short Sleeve Tee White - https://shop.googlemerchandisestore.com/Google+Redesign/Apparel/Men+s+T+Shirts/Google+Infant+Short+Sleeve+Tee+White+12M.axd?biid=1',\n",
       "       'YouTube | Shop by Brand | Google Merchandise Store - https://shop.googlemerchandisestore.com/Google+Redesign/Shop+by+Brand/YouTube',\n",
       "       'Dom', 'The Google Merchandise Store/PaperMate Ink Joy RT Pen',\n",
       "       'Google 25 oz Red Stainless Steel Bottle - https://shop.googlemerchandisestore.com/Google+Redesign/Drinkware/Google+25+oz+Red+Stainless+Steel+Bottle.axd',\n",
       "       'Google Youth Tee Fruit Games Strawberry',\n",
       "       'メンズTシャツ| アパレル| Google Merchandise Store',\n",
       "       \"Android Women's Short Sleeve Badge Tee Light Charcoal\", 'Maps',\n",
       "       'Stadium Cups-Sets of 4',\n",
       "       '5: The Google Merchandise Store - Log In', 'Google のオンライン ストア',\n",
       "       'Writing', \"Women's Performance Full Zip Jacket Black\",\n",
       "       'Google Электроника Аксессуар Чехол', 'Vestiti-T-shirt',\n",
       "       '2 Google Online Store',\n",
       "       \"Google Women's Quilted Insulated Vest Pewter\",\n",
       "       \"Google Men's Performance Badge Tee Gunmetal\",\n",
       "       'Google男性用100％コットンショートスリーブヒーローティーホワイト',\n",
       "       'Android Infant Short Sleeve Tee Aqua', '6 Home', '22: Home',\n",
       "       '24 Home', '1: Home', 'Sklep internetowy Google',\n",
       "       \"Google Men's Long Sleeve Baseball Raglan Cranberry\", '12: Bags',\n",
       "       'Sacs à dos | Sacs | Google Marchandise magasin',\n",
       "       'Potenza e caricatori | Elettronica | Merchandise Store di Google',\n",
       "       'Android Stretch Fit Hat L/XL',\n",
       "       'Google - https://shop.googlemerchandisestore.com/Google+Redesign/Shop+by+Brand/Google',\n",
       "       'The Google Merchandise Store/Pen Pencil & Highlighter Set - https://shop.googlemerchandisestore.com/Google+Redesign/Office/Writing/Pen+Pencil+Highlighter+Set.axd',\n",
       "       '10 Home', '11: Home',\n",
       "       'YouTube | Comprar por marca | Google tienda de artículos',\n",
       "       'Главная',\n",
       "       'weixin://private/setresult/SCENE_HANDLEMSGFROMWX&eyJfX2Vycl9jb2RlIjoiY2I0MDQifQ==',\n",
       "       \"Android Women's Short Sleeve Tri-blend Badge Tee Light Grey\",\n",
       "       \"Men's T-Shirts | Apparel | Google Merchandise Store - https://shop.googlemerchandisestore.com/Google+Redesign/Apparel/Men++s/Men++s+T+Shirts\",\n",
       "       \"Women's T-Shirts | Apparel | Google Merchandise\",\n",
       "       'Android Youth Short Sleeve T-shirt Aqua',\n",
       "       \"Google Men's Performance Badge Tee Navy\", '男士T恤| 服装| Google商品商店',\n",
       "       '15 Home', '23 Home', 'Tienda Online de Google',\n",
       "       \"Men's T-Shirts | Apparel | Google Merchandise Store [shop.googlemerchandisestore.com]\",\n",
       "       '6: Bags', \"Google Women's Performance Tee Gunmetal\", '9: Bags',\n",
       "       'Tumblers',\n",
       "       'Shopping Cart - https://shop.googlemerchandisestore.com/basket.html?vid=20160512512',\n",
       "       'خانه', '9 Google Online Store', '11 Google Online Store',\n",
       "       '5 Home', 'Товар Магазина Google - Войти В'], dtype=object)"
      ]
     },
     "execution_count": 166,
     "metadata": {},
     "output_type": "execute_result"
    }
   ],
   "source": [
    "df['pageTitle'].unique()"
   ]
  },
  {
   "cell_type": "code",
   "execution_count": 167,
   "id": "95657e28",
   "metadata": {},
   "outputs": [
    {
     "data": {
      "text/plain": [
       "array(['Safari', 'Chrome', 'Android Webview', 'Firefox',\n",
       "       'Internet Explorer', 'Edge', 'Safari (in-app)', 'Opera Mini',\n",
       "       'Android Browser', 'UC Browser', 'YaBrowser', 'Opera',\n",
       "       'Nintendo Browser', 'Mozilla Compatible Agent', 'Seznam',\n",
       "       'LYF_LS_4002_12', 'Puffin', '0', 'IE with Chrome Frame', 'Maxthon',\n",
       "       'Amazon Silk', 'MRCHROME', 'BlackBerry', 'SeaMonkey',\n",
       "       'Nokia Browser', 'Coc Coc', 'MQQBrowser', 'Hisense M20-M_LTE',\n",
       "       'LYF_LS_4002_11', 'Lunascape', 'Mozilla', 'Iron', 'Nichrome',\n",
       "       'DASH_JR_3G', 'Konqueror', 'no-ua', '(not set)', 'Reddit',\n",
       "       'Apple-iPhone7C2', 'NokiaE52-1',\n",
       "       '[Use default User-agent string] LIVRENPOCHE',\n",
       "       'osee2unifiedRelease', 'ThumbSniper', 'YE', 'Android Runtime',\n",
       "       'CSM Click', 'subjectAgent: NoticiasBoom', 'User Agent',\n",
       "       'Changa 99695759', 'M5', 'HTC802t_TD', 'ADM', 'TCL P500M',\n",
       "       'DoCoMo'], dtype=object)"
      ]
     },
     "execution_count": 167,
     "metadata": {},
     "output_type": "execute_result"
    }
   ],
   "source": [
    "df['browser'].unique()"
   ]
  },
  {
   "cell_type": "code",
   "execution_count": 168,
   "id": "c27bf611",
   "metadata": {},
   "outputs": [
    {
     "data": {
      "text/plain": [
       "array([  1.,   2.,   8.,   5.,   3.,  13.,   7.,   6.,  11.,   4.,  12.,\n",
       "        10.,  14.,  28.,   9.,  25.,  15.,  18.,  19.,  23.,  20.,  30.,\n",
       "        16.,  22.,  17.,  26.,  40.,  21.,  45.,  37.,  36.,  35.,  42.,\n",
       "        41.,  66., 185.,  29.,  43.,  55.,  32.,  31.,  24.,  48., 224.,\n",
       "        70.,  38., 188., 143.,  33.,  67.,  80.,  49.,  50.,  65.,  78.,\n",
       "        34.,  27.,  92.,  54.,  53.,  46.,  64.,  63.,  39., 112.,  57.,\n",
       "        44.,  47., 162., 169.,  51.,  58.,  59.,  89., 106.,  56.,  74.,\n",
       "        52., 145.,  79.,  61.,  nan,  60.,  69.,  75., 104., 113.,  98.,\n",
       "        72., 429.,  88.,  81.,  62.,  71., 132.,  90.,  86., 122.,  73.,\n",
       "       118.,  91.,  76.,  97., 343.,  85., 100., 138., 120.,  84., 223.,\n",
       "       103., 146.,  68.,  87.,  82., 111., 300.,  96.,  83., 115., 117.,\n",
       "       130., 110., 191.,  99., 131., 148.,  93., 220., 128., 116., 102.,\n",
       "        77., 108., 165., 324.,  94., 275., 189., 305., 135.,  95., 175.,\n",
       "       210., 105., 114., 139., 109., 123., 167., 147., 202., 156., 142.,\n",
       "       107., 190., 166., 182., 133., 127., 119., 176., 126., 199., 232.,\n",
       "       124., 121., 179., 174., 161., 309., 195., 193., 149., 129., 215.,\n",
       "       153., 101., 400., 341., 219., 141., 136., 208., 183., 125., 134.,\n",
       "       340., 270., 249., 197., 150., 196., 168., 333., 137., 351., 154.,\n",
       "       140., 327., 233., 323., 358., 201., 186., 173., 151., 144., 466.,\n",
       "       245., 164., 431., 469.])"
      ]
     },
     "execution_count": 168,
     "metadata": {},
     "output_type": "execute_result"
    }
   ],
   "source": [
    "df['pageviews'].unique()"
   ]
  },
  {
   "cell_type": "code",
   "execution_count": 169,
   "id": "ef016a40",
   "metadata": {},
   "outputs": [
    {
     "data": {
      "text/plain": [
       "array([  nan,    9.,  278., ..., 3211., 6468., 7667.], shape=(4256,))"
      ]
     },
     "execution_count": 169,
     "metadata": {},
     "output_type": "execute_result"
    }
   ],
   "source": [
    "df['timeOnSite'].unique()"
   ]
  },
  {
   "cell_type": "code",
   "execution_count": 170,
   "id": "ce4f6ae6",
   "metadata": {},
   "outputs": [
    {
     "data": {
      "text/plain": [
       "array(['(direct)', 'Partners', 'google', '(not set)', 'dfa', 'baidu',\n",
       "       'ask', 'yahoo', 'bing', 'images.google', 'gophergala.com',\n",
       "       'search.mysearch.com', 'google.com', 'analytics.google.com',\n",
       "       'hangouts.google.com', 'blog.golang.org', 'm.baidu.com',\n",
       "       'dealspotr.com', 'au.search.yahoo.com', 'google.com.au',\n",
       "       'productforums.google.com', 'duckduckgo.com', 'seroundtable.com',\n",
       "       'siliconvalley.about.com', 'connect.googleforwork.com',\n",
       "       'mail.google.com', 'h.yandex-team.ru', 'online-metrics.com',\n",
       "       'docs.google.com', 'mg.mail.yahoo.com', 'sites.google.com',\n",
       "       'phandroid.com', 'googleads.g.doubleclick.net',\n",
       "       'int.search.tb.ask.com', 'wap.sogou.com', 'away.vk.com',\n",
       "       'm.sogou.com', 'google.com.co', 'support.google.com',\n",
       "       'images.google.fr', 'google.de', 'images.google.de',\n",
       "       'startpage.com', 'ixquick.com', 'google.gr', 'adwords.google.com',\n",
       "       'google.co.in', 'in.search.yahoo.com', 'lunametrics.com',\n",
       "       'google.co.id', 'optimize.google.com', 'uk.search.yahoo.com',\n",
       "       'ad.doubleclick.net', 'qiita.com', 'google.co.jp', 'sashihara.jp',\n",
       "       'feedly.com', 'squishable.com', 'images.google.lt', 'google.co.uk',\n",
       "       'google.com.mx', 'web.telegram.org', 'google.nl',\n",
       "       'l.messenger.com', 'keep.google.com', 'google.ru', 'google.rs',\n",
       "       'google.com.sg', 'sg.search.yahoo.com', 'google.pl', 'google.sk',\n",
       "       'google.es', 'tw.search.yahoo.com', 'google.com.tw',\n",
       "       'google.co.th', 'wheretoget.it', 'datastudio.google.com',\n",
       "       's0.2mdn.net', 'search.xfinity.com', 'messenger.com',\n",
       "       'outlook.live.com', 'trainup.withgoogle.com', 'flipboard.com',\n",
       "       'learn.colorado.edu', 'm.vk.com', 'businessinsider.com',\n",
       "       'arstechnica.com', 'us.search.yahoo.com', 'myactivity.google.com',\n",
       "       'mail.verizon.com', 'web.mail.comcast.net', 'msn.com',\n",
       "       'youtube.com', 'l.facebook.com', 'm.facebook.com', 'reddit.com',\n",
       "       'facebook.com', 'quora.com', 'plus.google.com',\n",
       "       'groups.google.com', 't.co', 'm.youtube.com', 'lm.facebook.com',\n",
       "       'm.reddit.com', 'vk.com', 'pinterest.com',\n",
       "       'maktoob.search.yahoo.com', 'new.vk.com', 'kik.com', 'google.fr',\n",
       "       'fr.search.yahoo.com', 'images.google.co.in', 'ausdroid.net',\n",
       "       'it-mg42.mail.yahoo.com', 'malaysia.search.yahoo.com',\n",
       "       'nl.yhs4.search.yahoo.com', 'aulagrado.esic.edu',\n",
       "       'es.search.yahoo.com', 'mysearch.com',\n",
       "       'nordic.businessinsider.com', 'desktop.google.com.ua',\n",
       "       'search.incredibar.com', 'col128.mail.live.com', 'localhost',\n",
       "       'finance.yahoo.com', 'course.fso.fullsail.edu', '9to5google.com',\n",
       "       'learn.temple.edu', 'amazon.com', 'm.mg.mail.yahoo.com',\n",
       "       'm.yz.sm.cn', 'evernote.com', 'kidrex.org', 'newclasses.nyu.edu',\n",
       "       'basecamp.com', 'search.tb.ask.com', 'cc.csusm.edu', 'meetup.com',\n",
       "       'linkedin.com', 'business.facebook.com', 'plus.url.google.com',\n",
       "       'getpocket.com', 'so.com', 'go.mail.ru', 'google.com.br',\n",
       "       'google.ca', 'github.com', 'suche.t-online.de',\n",
       "       'ph.search.yahoo.com', 'google.com.ph', 'se.search.yahoo.com',\n",
       "       'blognone.com', 'getiriver.com', 'uk.businessinsider.com',\n",
       "       'uweoconnect.extn.washington.edu', 'csfirst.withgoogle.com',\n",
       "       'en.wikipedia.org', 'hosted.verticalresponse.com',\n",
       "       'earth.google.com', 'drawnames.com', 'kr.pinterest.com',\n",
       "       'mobile.facebook.com', 'google.cl', 'dena-design.qiita.com',\n",
       "       'espanol.search.yahoo.com', 'google.co.kr', 'google.lk',\n",
       "       'google.ch', 'members.s7.exacttarget.com', 'apis.mail.yahoo.com',\n",
       "       'goto.google.com', 'search.myway.com', 'google.gatewaycdi.com',\n",
       "       'baidu.com', 'gatewaycdi.com', 'us.wow.com', 'twitter.com',\n",
       "       'digg.com', 'aol', 'google.it', 'cv.il3.ub.edu',\n",
       "       'calendar.google.com', 'search.1and1.com', 'chat.google.com',\n",
       "       'marketingland.com', 'yandex', 'images.google.co.id', 'bing.com',\n",
       "       'us.yhs4.search.yahoo.com', 'wanelo.com', 'us.reddit.com',\n",
       "       'images.google.com.au', 'br.search.yahoo.com',\n",
       "       'mx.search.yahoo.com', 'web.skype.com', 'google.se', 'lmgtfy.com',\n",
       "       'ex.fit.edu', 'mail.aol.com', 'online.fullsail.edu',\n",
       "       'search.earthlink.net', 'intranet', 'google.com.vn',\n",
       "       'amp.reddit.com', 'web.facebook.com', 'google.at', 'google.co.za',\n",
       "       'search.snapdo.com', 'google.be', 'hk.search.yahoo.com',\n",
       "       'google.co.nz', 'images.google.pt', 'it.search.yahoo.com',\n",
       "       'google.com.hk', 'br.pinterest.com', 'centrum.cz',\n",
       "       'us-mg5.mail.yahoo.com', 'ca.search.yahoo.com', 'cn.bing.com',\n",
       "       'spaces.google.com', 'searchlock.com', 'gist.github.com',\n",
       "       'fr.yhs4.search.yahoo.com', 'm.sp.sm.cn', 'google.com.pk',\n",
       "       'google.ro', 'web.whatsapp.com', 'admin.globalaccess.com',\n",
       "       'moodle.aurora.edu', 'msn', 'inbox.google.com', 'google.co.il',\n",
       "       'images.google.ie', 'lnkd.in', 'nl.search.yahoo.com',\n",
       "       'google.com.ua', 'collaborate.northwestern.edu', 'search.pch.com',\n",
       "       'chatwork.com', 'cse.google.com', 'computerworld.com', 'google.bg',\n",
       "       'google.com.ng', 'se.yhs4.search.yahoo.com', 'start.wow.com',\n",
       "       'news.ycombinator.com', 'google.no',\n",
       "       'staging.talkgadget.google.com', 'businessinsider.in',\n",
       "       'blackboard.neu.edu', 'markets.businessinsider.com',\n",
       "       'it.pinterest.com', 'prod.facebook.com', 'google.com.sa',\n",
       "       'images.google.lk', 'good.barkpost.com', 'voice.google.com',\n",
       "       'dailydot.com', 'tweetdeck.twitter.com', 'tumblr.com',\n",
       "       'google.com.ar', 'newsstand.google.com', 'myaccount.google.com',\n",
       "       'gsuite.google.com', 'de.pinterest.com', 'google.cz',\n",
       "       'blackboard.towson.edu', 'images.google.at',\n",
       "       'int.search.mywebsearch.com', 's7-eu4.ixquick.com',\n",
       "       'google.com.pe', 'yahoo.com', 'takeout.google.com',\n",
       "       'id.search.yahoo.com', 'ps-dm.reddit.com'], dtype=object)"
      ]
     },
     "execution_count": 170,
     "metadata": {},
     "output_type": "execute_result"
    }
   ],
   "source": [
    "df['source'].unique()"
   ]
  },
  {
   "cell_type": "code",
   "execution_count": 171,
   "id": "49408489",
   "metadata": {},
   "outputs": [
    {
     "data": {
      "text/plain": [
       "array(['(none)', '(not set)', 'affiliate', 'cpm', 'organic', 'cpc',\n",
       "       'referral'], dtype=object)"
      ]
     },
     "execution_count": 171,
     "metadata": {},
     "output_type": "execute_result"
    }
   ],
   "source": [
    "df['medium'].unique()"
   ]
  },
  {
   "cell_type": "code",
   "execution_count": 172,
   "id": "e9fe34f3",
   "metadata": {},
   "outputs": [
    {
     "data": {
      "text/plain": [
       "array([nan, 'youtube t shirt', '(not provided)', ..., 'yputbu',\n",
       "       '+woman shades', 'google accessories store'],\n",
       "      shape=(2718,), dtype=object)"
      ]
     },
     "execution_count": 172,
     "metadata": {},
     "output_type": "execute_result"
    }
   ],
   "source": [
    "df['keyword'].unique()"
   ]
  },
  {
   "cell_type": "code",
   "execution_count": 173,
   "id": "9326915e",
   "metadata": {},
   "outputs": [
    {
     "data": {
      "text/plain": [
       "array(['Macintosh', 'Windows', 'Android', 'Linux', 'iOS', 'Chrome OS',\n",
       "       '(not set)', 'Windows Phone', 'Samsung', 'Nintendo WiiU',\n",
       "       'Nintendo Wii', 'BlackBerry', 'Firefox OS', 'Xbox', 'OpenBSD',\n",
       "       'FreeBSD', 'Nokia', 'Nintendo 3DS', 'SunOS', 'NTT DoCoMo'],\n",
       "      dtype=object)"
      ]
     },
     "execution_count": 173,
     "metadata": {},
     "output_type": "execute_result"
    }
   ],
   "source": [
    "df['operatingSystem'].unique()"
   ]
  },
  {
   "cell_type": "code",
   "execution_count": 174,
   "id": "94aabcdd",
   "metadata": {},
   "outputs": [
    {
     "data": {
      "text/plain": [
       "array(['desktop', 'mobile', 'tablet'], dtype=object)"
      ]
     },
     "execution_count": 174,
     "metadata": {},
     "output_type": "execute_result"
    }
   ],
   "source": [
    "df['deviceCategory'].unique()"
   ]
  },
  {
   "cell_type": "code",
   "execution_count": 175,
   "id": "7270e4ba",
   "metadata": {},
   "outputs": [
    {
     "data": {
      "text/plain": [
       "array(['Western Europe', 'Eastern Africa', 'Northern America',\n",
       "       '(not set)', 'South America', 'Western Asia', 'Australasia',\n",
       "       'Southern Asia', 'Eastern Europe', 'Middle Africa', 'Eastern Asia',\n",
       "       'Southern Europe', 'Northern Europe', 'Northern Africa',\n",
       "       'Western Africa', 'Southeast Asia', 'Central Asia',\n",
       "       'Central America', 'Southern Africa', 'Caribbean', 'Melanesia',\n",
       "       'Micronesian Region', 'Polynesia'], dtype=object)"
      ]
     },
     "execution_count": 175,
     "metadata": {},
     "output_type": "execute_result"
    }
   ],
   "source": [
    "df['subContinent'].unique()"
   ]
  },
  {
   "cell_type": "code",
   "execution_count": 176,
   "id": "138d43d7",
   "metadata": {},
   "outputs": [
    {
     "data": {
      "text/plain": [
       "array(['Belgium', 'Kenya', 'United States', '(not set)', 'Argentina',\n",
       "       'Armenia', 'Australia', 'Austria', 'Bahrain', 'Bangladesh',\n",
       "       'Brazil', 'Bulgaria', 'Cameroon', 'Canada', 'Chile', 'China',\n",
       "       'Colombia', 'Croatia', 'Czechia', 'Denmark', 'Ecuador', 'Egypt',\n",
       "       'Estonia', 'Finland', 'France', 'Germany', 'Ghana', 'Greece',\n",
       "       'Hong Kong', 'Hungary', 'India', 'Indonesia', 'Ireland', 'Israel',\n",
       "       'Italy', 'Japan', 'Jordan', 'Kazakhstan', 'Lebanon', 'Libya',\n",
       "       'Lithuania', 'Luxembourg', 'Macau', 'Malaysia', 'Mexico',\n",
       "       'Moldova', 'Mongolia', 'Myanmar (Burma)', 'Netherlands',\n",
       "       'New Zealand', 'Nigeria', 'Norway', 'Pakistan', 'Panama',\n",
       "       'Paraguay', 'Peru', 'Philippines', 'Poland', 'Portugal', 'Romania',\n",
       "       'Russia', 'Saudi Arabia', 'Singapore', 'Slovakia', 'Slovenia',\n",
       "       'South Africa', 'South Korea', 'Spain', 'Sri Lanka', 'Sweden',\n",
       "       'Switzerland', 'Taiwan', 'Thailand', 'Turkey', 'Ukraine',\n",
       "       'United Arab Emirates', 'United Kingdom', 'Uruguay', 'Venezuela',\n",
       "       'Vietnam', 'Algeria', 'Antigua & Barbuda', 'Azerbaijan', 'Belarus',\n",
       "       'Bolivia', 'Bosnia & Herzegovina', 'Brunei', 'Burkina Faso',\n",
       "       'Cambodia', 'Cayman Islands', 'Congo - Kinshasa', 'Costa Rica',\n",
       "       'Curaçao', 'Côte d’Ivoire', 'Dominican Republic', 'El Salvador',\n",
       "       'Ethiopia', 'Georgia', 'Guadeloupe', 'Guatemala', 'Guinea',\n",
       "       'Haiti', 'Honduras', 'Iceland', 'Iran', 'Iraq', 'Jamaica',\n",
       "       'Kuwait', 'Kyrgyzstan', 'Laos', 'Latvia', 'Lesotho',\n",
       "       'Macedonia (FYROM)', 'Malta', 'Montenegro', 'Morocco',\n",
       "       'Mozambique', 'Nepal', 'Oman', 'Palestine', 'Papua New Guinea',\n",
       "       'Puerto Rico', 'Qatar', 'Réunion', 'Senegal', 'Serbia', 'Tanzania',\n",
       "       'Trinidad & Tobago', 'Tunisia', 'Yemen', 'Zambia', 'Zimbabwe',\n",
       "       'Afghanistan', 'Albania', 'Angola', 'Aruba', 'Bahamas', 'Bermuda',\n",
       "       'Cyprus', 'Faroe Islands', 'Gibraltar', 'Grenada', 'Guam',\n",
       "       'Guernsey', 'Guyana', 'Jersey', 'Kosovo', 'Liechtenstein',\n",
       "       'Madagascar', 'Martinique', 'Mauritania', 'Namibia', 'Nicaragua',\n",
       "       'Niger', 'Northern Mariana Islands', 'Rwanda', 'San Marino',\n",
       "       'St. Lucia', 'St. Martin', 'Sudan', 'Togo', 'U.S. Virgin Islands',\n",
       "       'Uganda', 'Maldives', 'Benin', 'Cape Verde', 'Gabon', 'Gambia',\n",
       "       'Mauritius', 'Somalia', 'Swaziland', 'Uzbekistan', 'Barbados',\n",
       "       'British Virgin Islands', 'Central African Republic', 'Monaco',\n",
       "       'Botswana', 'Fiji', 'French Polynesia', 'Greenland', 'Chad',\n",
       "       'Andorra', 'French Guiana', 'Mali', 'Mayotte', 'New Caledonia',\n",
       "       'St. Vincent & Grenadines', 'Syria', 'Isle of Man',\n",
       "       'St. Kitts & Nevis', 'Suriname', 'Turks & Caicos Islands',\n",
       "       'Burundi', 'Djibouti', 'Equatorial Guinea', 'Liberia', 'Malawi',\n",
       "       'Sierra Leone', 'Tajikistan', 'Sint Maarten', 'Marshall Islands',\n",
       "       'Belize', 'Turkmenistan', 'Bhutan', 'Seychelles', 'Guinea-Bissau',\n",
       "       'Congo - Brazzaville', 'Dominica', 'Samoa',\n",
       "       'Caribbean Netherlands', 'Timor-Leste', 'St. Barthélemy',\n",
       "       'Comoros', 'Anguilla', 'Eritrea', 'American Samoa',\n",
       "       'São Tomé & Príncipe', 'Åland Islands', 'Cook Islands',\n",
       "       'Norfolk Island', 'Vanuatu', 'St. Pierre & Miquelon'], dtype=object)"
      ]
     },
     "execution_count": 176,
     "metadata": {},
     "output_type": "execute_result"
    }
   ],
   "source": [
    "df['country'].unique()"
   ]
  },
  {
   "cell_type": "code",
   "execution_count": 177,
   "id": "1aa9d600",
   "metadata": {},
   "outputs": [
    {
     "data": {
      "text/plain": [
       "array(['Brussels', 'not available in demo dataset', 'Seattle',\n",
       "       '(not set)', 'Buenos Aires', 'Mar del Plata', 'Pinamar', 'Sydney',\n",
       "       'Melbourne', 'Sao Paulo', 'Toronto', 'Montreal', 'Vancouver',\n",
       "       'Santiago', 'Bogota', 'Zagreb', 'Brno', 'Prague', 'Roskilde',\n",
       "       'Odense', 'Tampere', 'Paris', 'Frankfurt', 'Berlin', 'Hamburg',\n",
       "       'Athens', 'Hong Kong', 'Budapest', 'Kolkata', 'Mumbai',\n",
       "       'Bengaluru', 'Chennai', 'Pune', 'Hyderabad', 'New Delhi',\n",
       "       'Ahmedabad', 'Bandung', 'Surabaya', 'Dublin', 'Tel Aviv-Yafo',\n",
       "       'Milan', 'Chuo', 'Minato', 'Shibuya', 'Shinjuku', 'Amã', 'Nairobi',\n",
       "       'Kuala Lumpur', 'Petaling Jaya', 'Mexico City', 'Monterrey',\n",
       "       'Schagen', 'Amsterdam', 'Utrecht', 'Auckland', 'Karachi', 'Taguig',\n",
       "       'Warsaw', 'Poznan', 'Lisbon', 'Saint Petersburg', 'Petergof',\n",
       "       'Moscow', 'Singapore', 'Seoul', 'Seville', 'Barcelona', 'Madrid',\n",
       "       'Valencia', 'Malaga', 'Elche', 'Stockholm', 'Gothenburg',\n",
       "       'Bangkok', 'Istanbul', 'Ankara', 'Kiev', 'London', 'Oxford',\n",
       "       'Aberdeen', 'Nashville', 'Chicago', 'New York', 'Eau Claire',\n",
       "       'Atlanta', 'Mountain View', 'Shiocton', 'Los Angeles',\n",
       "       'Piscataway Township', 'Rexburg', 'Salem', 'San Jose', 'Dallas',\n",
       "       'Austin', 'San Francisco', 'Pittsburgh', 'Oshkosh', 'Oviedo',\n",
       "       'Oakland', 'Houston', 'Raleigh', 'Washington', 'Sunnyvale',\n",
       "       'Wellesley', 'Montevideo', 'Hanoi', 'Ho Chi Minh City', 'Rosario',\n",
       "       'Cordoba', 'Santa Fe', 'La Victoria', 'Brisbane', 'Vienna',\n",
       "       'Brest', 'Minsk', 'Leuven', 'Manaus', 'Sofia', 'Kitchener',\n",
       "       'Quebec City', 'Ottawa', 'Brampton', 'Edmonton', 'Calgary',\n",
       "       'Gatineau', 'Ningbo', 'Beijing', 'Cali', 'Medellin', 'Ostrava',\n",
       "       'Vejle', 'Greve Strand', 'Alexandria', 'Marseille', 'Lille',\n",
       "       'Courbevoie', 'Reims', 'Pontivy', 'Montreuil', 'Stuttgart',\n",
       "       'Aalen', 'Munich', 'Cologne', 'Zurich', 'Spaichingen', 'Lucknow',\n",
       "       'Gurgaon', 'Jaipur', 'Bhubaneswar', 'Indore', 'Noida', 'Jakarta',\n",
       "       'Cork', 'Greystones', 'Rome', 'Turin', 'Bologna', 'Osaka', 'Riga',\n",
       "       'Kampar', 'Subang Jaya', 'Casablanca', 'Oegstgeest', 'Rotterdam',\n",
       "       'Breda', 'Wellington', 'Lagos', 'Oslo', 'Lahore', 'Makati',\n",
       "       'Manila', 'Quezon City', 'Wroclaw', 'Krakow', 'Bucharest',\n",
       "       'Cluj-Napoca', 'Oradea', 'Timisoara', 'Targu Mures', 'Alba Iulia',\n",
       "       'Vladivostok', 'Vladimir', 'Riyadh', 'Jeddah', 'Bratislava',\n",
       "       'Kosice', 'Cape Town', 'Sandton', 'Seongnam-si',\n",
       "       'Pozuelo de Alarcon', 'Ciudad Real', 'Bilbao', 'Colombo',\n",
       "       'Palo Alto', 'Geneva', 'Zhongli District', 'Longtan District',\n",
       "       'Tunis', 'Izmir', 'Dnipro', 'Kyiv', 'Dubai', 'Abu Dhabi',\n",
       "       'Liverpool', 'Molesey', 'Salford', 'Manchester', 'Canterbury',\n",
       "       'Glasgow', 'Ann Arbor', 'Santa Clara', 'Charlotte', 'Redwood City',\n",
       "       'Kirkland', 'Boardman', 'Jersey City', 'Farmington Hills',\n",
       "       'Laguna Beach', 'San Bruno', 'San Mateo', 'Norfolk',\n",
       "       'Council Bluffs', 'Columbus', 'Philadelphia', 'Evanston',\n",
       "       'Fremont', 'Ballinger', 'Boston', 'McAllen', 'Irvine', 'Danville',\n",
       "       'Ashburn', 'Cupertino', 'Cambridge', 'Phoenix', 'Orlando',\n",
       "       'Redmond', 'Denver', 'Boulder', 'Plano', 'San Diego', 'Milpitas',\n",
       "       'The Dalles', 'Minneapolis', 'Menlo Park', 'Charlottesville',\n",
       "       'Tempe', 'Portland', 'Detroit', 'Richardson', 'Bothell',\n",
       "       'South San Francisco', 'Saint Paul', 'Santa Monica', 'San Antonio',\n",
       "       'Coffeyville', 'North Richland Hills', 'Lexington', 'Fresno',\n",
       "       'Las Vegas', 'Chico', 'Goose Creek', 'Brookline', 'Miami',\n",
       "       'Wheeling', 'Amherst', 'Kansas City', 'Byron', 'Cincinnati',\n",
       "       'Lake Oswego', 'Kalamazoo', 'Camden', 'San Marcos',\n",
       "       'Westlake Village', 'Vung Tau', 'Forest Park', 'Tirana', 'Perth',\n",
       "       'Saint Polten', 'Salzburg', 'Mechelen', 'Antwerp', 'Curitiba',\n",
       "       'Rio de Janeiro', 'Belo Horizonte', 'Burnaby', 'Sherbrooke',\n",
       "       'Charlottetown', 'Waterloo', 'Mississauga', 'Shanghai', 'Olomouc',\n",
       "       'Frederiksberg', 'Copenhagen', 'Aalborg', 'Esbjerg', 'Lyon',\n",
       "       'Chambery', 'Annecy-le-Vieux', \"Villeneuve-d'Ascq\", 'Vannes',\n",
       "       'Bordeaux', 'Dusseldorf', 'Amberg', 'Weingarten', 'Thessaloniki',\n",
       "       'Kharagpur', 'Chandigarh', 'Erode', 'Kochi', 'Patna', 'Coimbatore',\n",
       "       'Belagavi', 'Dundalk', 'Herzliya', 'Naples', 'Prato', 'Padua',\n",
       "       'Cagliari', 'Yokohama', 'Sakai', 'Chiyoda', 'Ipoh', 'Cancun',\n",
       "       \"'s Hertogenbosch\", 'The Hague', 'Leusden', 'Santiago de Surco',\n",
       "       'Arequipa', 'Cebu City', 'Katowice', 'Koszalin', 'Belgrade',\n",
       "       'Almeria', 'Zaragoza', 'Guadalajara', 'Alicante',\n",
       "       'Sant Cugat del Valles', 'Lausanne', 'Taoyuan District', 'Antalya',\n",
       "       'Birmingham', 'Egham', 'Cardiff', 'Leeds', 'Bath', 'Telford',\n",
       "       'Tampa', 'Avon', 'Louisville', 'East Lansing', 'Bellevue',\n",
       "       'Atwater', 'Sacramento', 'Appleton', 'Newark', 'Hayward',\n",
       "       'Douglasville', 'Saratoga', 'University Park', 'Redondo Beach',\n",
       "       'Carrollton', 'Maracaibo', 'Greer', 'Berkeley',\n",
       "       'Lawrence Township', 'Chamblee', 'Druid Hills', 'Lewisville',\n",
       "       'El Paso', 'Omaha', 'Madison', 'Overland Park', 'Bien Hoa',\n",
       "       'Porto Alegre', 'Valparaiso', 'Osijek', 'Cairo', 'Quimper',\n",
       "       'Montigny-le-Bretonneux', 'Ramat Gan', 'Alba', 'Vilnius',\n",
       "       'San Carlos', 'Woodbridge Township', 'Pleasanton', 'Whitewater',\n",
       "       'Bellingham', 'Baku', 'Recife', 'Brasilia', 'Campinas', 'Goiania',\n",
       "       'Fortaleza', 'Salvador', 'Ribeirao Preto', 'Vila Velha', 'Tbilisi',\n",
       "       'Makassar', 'Bekasi', 'Almaty', 'Skopje', 'Johor Bahru',\n",
       "       'Shah Alam', 'Hermosillo', 'Santiago de Queretaro', 'Chisinau',\n",
       "       'Oude Meer', 'Zwolle', 'Islamabad', 'Davao City', 'Pasig', 'Doha',\n",
       "       'Iasi', 'Daegu', 'Mueang Khon Kaen District',\n",
       "       'Mueang Chiang Mai District', 'Hua Hin', 'Nakhon Pathom',\n",
       "       'Mueang Songkhla District', 'Mueang Phitsanulok District', 'Adana',\n",
       "       'Mersin', 'Erzurum', 'Kayseri', 'Konya', 'Bursa', 'Trabzon',\n",
       "       'Samsun', 'Gaziantep', 'Sharjah', 'Akron', 'Wheaton', 'Ridgewood',\n",
       "       'Orem', 'Tigard', 'Okemos', 'Caracas', 'Da Nang', 'Dalat',\n",
       "       'Hai Phong', 'Hoi An', 'Thai Nguyen', 'Nam Djinh', 'Vinh',\n",
       "       'Buon Ma Thuot', 'Hai Duong', 'Hue', 'Rach Gia', 'Can Tho',\n",
       "       'My Tho', 'Nha Trang', 'Quang Ngai', 'Qui Nhon', 'Thai Binh',\n",
       "       'Thanh Hoa', 'Kiryat Ono', 'Miyazaki', 'Villafranca del Castillo',\n",
       "       'Odessa', 'Fareham', 'Dahlonega', 'Fort Collins', 'Wollongong',\n",
       "       'Dhaka', 'Zaventem', 'Ghent', \"St. John's\", 'Tallinn', 'Pessac',\n",
       "       'Vincennes', 'Furth', 'Guatemala City', 'Navi Mumbai', 'Medan',\n",
       "       'Fukui', 'Nagano', 'Beirut', 'Culiacan', 'Szczecin', 'Deva',\n",
       "       'Westville', 'Bellflower', 'Milwaukee', 'Smyrna', 'Jacksonville',\n",
       "       'Honolulu', 'Pueblo', 'Oneonta', 'Fort Worth', 'Lehi', 'Edison',\n",
       "       'Stanford', 'Adelaide', 'Kortrijk', 'Barranquilla', 'Viby',\n",
       "       'Issy-les-Moulineaux', 'Sapporo', 'Eindhoven', 'Amersfoort',\n",
       "       'Rzeszow', 'Faro', 'Gijon', 'Zamudio', 'Granada',\n",
       "       'Zaoqiao Township', 'Zhudong Township', 'Minxiong Township',\n",
       "       'Kharkiv', 'Coventry', 'Sheffield', 'Indianapolis', 'Hamden',\n",
       "       'College Park', 'Anaheim', 'Salt Lake City',\n",
       "       'Allendale Charter Township', 'Collegeville', 'Syracuse',\n",
       "       'Parsippany-Troy Hills', 'Santa Ana', 'Florianopolis', 'Helsinki',\n",
       "       'Dacun Township', 'Neipu Township', 'Wrexham', 'Lenoir', 'Cuiaba',\n",
       "       'Quito', 'Surat', 'Tijuana', 'Sibiu', 'Aydin', 'Johnson City',\n",
       "       'Rockwood', 'Pleiku', 'Newtonville', 'Bruges', 'Talence',\n",
       "       'Chevilly Larue', 'Guwahati', 'Naha', 'Bournemouth', 'Altrincham',\n",
       "       'Thornton', 'Springfield', 'Columbia', 'Memphis', 'Panama City',\n",
       "       'Hallein', 'Guangzhou', 'Decin', \"Saint-Ouen-l'Aumone\",\n",
       "       'Nuremberg', 'Vadodara', 'Arnhem', 'Leiria', 'Randburg',\n",
       "       'Sabadell', 'White Plains', 'Burlington', 'Walnut Creek',\n",
       "       'Miami Beach', 'Riverside', 'Cabimas', 'Barrie', 'Nantes', 'Thane',\n",
       "       'Faisalabad', 'Piura', 'Mueang Nakhon Ratchasima District',\n",
       "       'Eskisehir', 'Ha Tinh', 'Villanova', 'Nea Erythraia', 'Asuncion',\n",
       "       'Barnsley', 'Daly City', 'South El Monte', 'Nice',\n",
       "       'Clermont-Ferrand', 'Metz', 'Ludhiana', 'Parma', 'Nagoya',\n",
       "       'Kumamoto', 'Bristol', 'St. Louis', 'LaFayette', 'Atibaia',\n",
       "       'Semarang', 'Phan Thiet', 'Cao Lanh', 'Deep River', 'Hangzhou',\n",
       "       'La Chorrera', 'Kovrov', 'Nottingham', 'Mankato', 'Pryor',\n",
       "       'Normandy', 'Winnipeg', 'Medina', 'New Westminster', 'Union City',\n",
       "       'Phnom Penh', 'Muntinlupa', 'Rishon LeTsiyon', 'Netanya',\n",
       "       'Culpeper', 'Tucson', 'Bremen', 'Cyberjaya', 'Birkenes', 'Lincoln',\n",
       "       'Marlboro', 'Chino', 'North Attleborough', 'Hukou Township',\n",
       "       'New Orleans', 'Sandy', 'Baltimore', 'Hradec Kralove', 'Seclin',\n",
       "       'Nanded', 'Toledo', 'Lviv', 'Paradise', 'Campbell', 'Depok',\n",
       "       'Ljubljana', 'Toufen City', 'Towson', 'Evans', 'Groningen',\n",
       "       'Boise', 'Luxembourg City', 'Watford', 'Sandy Springs', 'Zapopan',\n",
       "       'Ulaanbaatar', 'San Salvador', 'Los Gatos', 'Bozeman',\n",
       "       'Kuwait City', 'Tallahassee', 'Pescara', 'Leon'], dtype=object)"
      ]
     },
     "execution_count": 177,
     "metadata": {},
     "output_type": "execute_result"
    }
   ],
   "source": [
    "df['city'].unique()"
   ]
  },
  {
   "cell_type": "code",
   "execution_count": 178,
   "id": "36a4ee1c",
   "metadata": {},
   "outputs": [
    {
     "data": {
      "text/plain": [
       "array(['unknown.unknown', 'arso-oran.org', '(not set)', ...,\n",
       "       'maisonjsc.com', 'somotweb2.com', 'bravo.com.vn'],\n",
       "      shape=(28012,), dtype=object)"
      ]
     },
     "execution_count": 178,
     "metadata": {},
     "output_type": "execute_result"
    }
   ],
   "source": [
    "df['networkDomain'].unique()"
   ]
  },
  {
   "cell_type": "code",
   "execution_count": 179,
   "id": "14d5ef73",
   "metadata": {},
   "outputs": [
    {
     "data": {
      "text/plain": [
       "array([ 6,  0, 12, 17,  3, 18, 14, 10, 16,  2, 19, 11, 21, 22, 23,  1,  9,\n",
       "       15,  8,  5, 13,  7,  4, 20])"
      ]
     },
     "execution_count": 179,
     "metadata": {},
     "output_type": "execute_result"
    }
   ],
   "source": [
    "df['hit_hour'].unique()"
   ]
  },
  {
   "cell_type": "code",
   "execution_count": 180,
   "id": "d4960fca",
   "metadata": {},
   "outputs": [
    {
     "data": {
      "text/plain": [
       "array([ True])"
      ]
     },
     "execution_count": 180,
     "metadata": {},
     "output_type": "execute_result"
    }
   ],
   "source": [
    "df['isInteraction'].unique()"
   ]
  },
  {
   "cell_type": "code",
   "execution_count": 181,
   "id": "a3ae71be",
   "metadata": {},
   "outputs": [
    {
     "data": {
      "text/plain": [
       "array(['(Other)', 'Affiliates', 'Direct', 'Display', 'Organic Search',\n",
       "       'Paid Search', 'Referral', 'Social'], dtype=object)"
      ]
     },
     "execution_count": 181,
     "metadata": {},
     "output_type": "execute_result"
    }
   ],
   "source": [
    "df['channelGrouping'].unique()"
   ]
  },
  {
   "cell_type": "markdown",
   "id": "3b16fab1",
   "metadata": {},
   "source": [
    "# 데이터 전처리"
   ]
  },
  {
   "cell_type": "code",
   "execution_count": 182,
   "id": "38c95782",
   "metadata": {},
   "outputs": [
    {
     "name": "stdout",
     "output_type": "stream",
     "text": [
      "        visitNumber     visitId  visitStartTime      date  pageviews  \\\n",
      "0                 3  1479737678      1479737678  20161121        1.0   \n",
      "1                 6  1484727530      1484727530  20170118        1.0   \n",
      "2                 3  1491508010      1491508010  20170406        2.0   \n",
      "3                 9  1492302990      1492302990  20170415        1.0   \n",
      "4                 1  1485431224      1485431224  20170126        2.0   \n",
      "...             ...         ...             ...       ...        ...   \n",
      "901092            1  1501057233      1501057233  20170726        1.0   \n",
      "901093            1  1490041442      1490041442  20170320        1.0   \n",
      "901094            1  1471890172      1471890172  20160822        1.0   \n",
      "901095            1  1490987524      1490987524  20170331        2.0   \n",
      "901096            1  1474357112      1474357112  20160920        1.0   \n",
      "\n",
      "        timeOnSite       source     medium keyword     browser  ...  \\\n",
      "0              NaN     (direct)     (none)     NaN      Safari  ...   \n",
      "1              NaN     Partners  (not set)     NaN      Chrome  ...   \n",
      "2              9.0       google  (not set)     NaN      Chrome  ...   \n",
      "3              NaN    (not set)  (not set)     NaN      Chrome  ...   \n",
      "4            278.0     Partners  affiliate     NaN      Chrome  ...   \n",
      "...            ...          ...        ...     ...         ...  ...   \n",
      "901092         NaN  youtube.com   referral     NaN     Firefox  ...   \n",
      "901093         NaN  youtube.com   referral     NaN      Chrome  ...   \n",
      "901094         NaN  youtube.com   referral     NaN      Safari  ...   \n",
      "901095        22.0  youtube.com   referral     NaN  Opera Mini  ...   \n",
      "901096         NaN  youtube.com   referral     NaN      Safari  ...   \n",
      "\n",
      "                                 city    networkDomain hit_hour isInteraction  \\\n",
      "0                            Brussels  unknown.unknown        6          True   \n",
      "1       not available in demo dataset    arso-oran.org        0          True   \n",
      "2                             Seattle        (not set)       12          True   \n",
      "3       not available in demo dataset        (not set)       17          True   \n",
      "4                           (not set)  unknown.unknown        3          True   \n",
      "...                               ...              ...      ...           ...   \n",
      "901092  not available in demo dataset  unknown.unknown        1          True   \n",
      "901093  not available in demo dataset  unknown.unknown       13          True   \n",
      "901094  not available in demo dataset           ipb.na       11          True   \n",
      "901095  not available in demo dataset  unknown.unknown       12          True   \n",
      "901096  not available in demo dataset        zol.co.zw        0          True   \n",
      "\n",
      "                                                pageTitle  \\\n",
      "0                                     Google Online Store   \n",
      "1                                                    Home   \n",
      "2                                                    Home   \n",
      "3                       Office | Google Merchandise Store   \n",
      "4                                                    Home   \n",
      "...                                                   ...   \n",
      "901092  YouTube | Shop by Brand | Google Merchandise S...   \n",
      "901093                                Google Online Store   \n",
      "901094                                               Home   \n",
      "901095                                               Home   \n",
      "901096                                               Home   \n",
      "\n",
      "                                      pagePath              productCategory  \\\n",
      "0                                        /home                          NaN   \n",
      "1                                        /home                          NaN   \n",
      "2                                        /home                          NaN   \n",
      "3                      /google+redesign/office                 Home/Office/   \n",
      "4                                        /home                          NaN   \n",
      "...                                        ...                          ...   \n",
      "901092  /google+redesign/shop+by+brand/youtube  Home/Shop by Brand/YouTube/   \n",
      "901093                                   /home                          NaN   \n",
      "901094                                   /home                          NaN   \n",
      "901095                                   /home                          NaN   \n",
      "901096                                   /home                          NaN   \n",
      "\n",
      "        promoName promoPosition channelGrouping  \n",
      "0             NaN           NaN         (Other)  \n",
      "1         Apparel         Row 1         (Other)  \n",
      "2         Apparel         Row 1         (Other)  \n",
      "3             NaN           NaN         (Other)  \n",
      "4         Apparel         Row 1      Affiliates  \n",
      "...           ...           ...             ...  \n",
      "901092        NaN           NaN          Social  \n",
      "901093        NaN           NaN          Social  \n",
      "901094    Apparel         Row 1          Social  \n",
      "901095    Apparel         Row 1          Social  \n",
      "901096    Apparel         Row 1          Social  \n",
      "\n",
      "[900944 rows x 24 columns]\n"
     ]
    }
   ],
   "source": [
    "df = df.dropna(subset=['pageTitle'])\n",
    "print(df_clean)"
   ]
  },
  {
   "cell_type": "code",
   "execution_count": 183,
   "id": "2ec794cd",
   "metadata": {},
   "outputs": [
    {
     "data": {
      "text/plain": [
       "np.int64(0)"
      ]
     },
     "execution_count": 183,
     "metadata": {},
     "output_type": "execute_result"
    }
   ],
   "source": [
    "df['pageTitle'].isnull().sum()"
   ]
  },
  {
   "cell_type": "code",
   "execution_count": 184,
   "id": "dc0eeb84",
   "metadata": {},
   "outputs": [],
   "source": [
    "df['pagePath'] = df['pagePath'].fillna('')        # NaN → 빈 문자열 처리\n",
    "df['pagePath'] = df['pagePath'].str.count('/')"
   ]
  },
  {
   "cell_type": "code",
   "execution_count": 185,
   "id": "c2a3df34",
   "metadata": {},
   "outputs": [
    {
     "name": "stdout",
     "output_type": "stream",
     "text": [
      "0         1\n",
      "1         1\n",
      "2         1\n",
      "3         2\n",
      "4         1\n",
      "         ..\n",
      "901092    3\n",
      "901093    1\n",
      "901094    1\n",
      "901095    1\n",
      "901096    1\n",
      "Name: pagePath, Length: 900944, dtype: int64\n"
     ]
    }
   ],
   "source": [
    "print(df['pagePath'])"
   ]
  },
  {
   "cell_type": "code",
   "execution_count": 187,
   "id": "72c69254",
   "metadata": {},
   "outputs": [
    {
     "data": {
      "text/plain": [
       "array([ 1,  2,  4,  3,  5, 16, 11, 10, 15, 14, 17, 12,  8,  6, 13, 19,  7,\n",
       "        9, 18, 20])"
      ]
     },
     "execution_count": 187,
     "metadata": {},
     "output_type": "execute_result"
    }
   ],
   "source": [
    "df['pagePath'].unique()"
   ]
  },
  {
   "cell_type": "code",
   "execution_count": null,
   "id": "4b1c573d",
   "metadata": {},
   "outputs": [],
   "source": []
  }
 ],
 "metadata": {
  "kernelspec": {
   "display_name": "Python 3",
   "language": "python",
   "name": "python3"
  },
  "language_info": {
   "codemirror_mode": {
    "name": "ipython",
    "version": 3
   },
   "file_extension": ".py",
   "mimetype": "text/x-python",
   "name": "python",
   "nbconvert_exporter": "python",
   "pygments_lexer": "ipython3",
   "version": "3.13.4"
  }
 },
 "nbformat": 4,
 "nbformat_minor": 5
}
